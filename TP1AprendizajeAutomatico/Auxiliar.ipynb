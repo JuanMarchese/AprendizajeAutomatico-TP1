{
 "cells": [
  {
   "cell_type": "markdown",
   "metadata": {},
   "source": [
    "## Imprimir tabla"
   ]
  },
  {
   "cell_type": "code",
   "execution_count": 4,
   "metadata": {},
   "outputs": [],
   "source": [
    "import pandas as pd\n",
    "def imprimir_tabla(nombres_columnas,valores_por_columna,nombres_filas):\n",
    "    diccionario = {}\n",
    "    \n",
    "    for i in range(0,len(nombres_columnas)):\n",
    "        diccionario[nombres_columnas[i]] = valores_por_columna[i]\n",
    "\n",
    "    dataFrame = pd.DataFrame(diccionario)\n",
    "    dataFrame.index = nombres_filas\n",
    "    \n",
    "    display(dataFrame)"
   ]
  },
  {
   "cell_type": "code",
   "execution_count": 6,
   "metadata": {},
   "outputs": [
    {
     "data": {
      "text/html": [
       "<div>\n",
       "<style scoped>\n",
       "    .dataframe tbody tr th:only-of-type {\n",
       "        vertical-align: middle;\n",
       "    }\n",
       "\n",
       "    .dataframe tbody tr th {\n",
       "        vertical-align: top;\n",
       "    }\n",
       "\n",
       "    .dataframe thead th {\n",
       "        text-align: right;\n",
       "    }\n",
       "</style>\n",
       "<table border=\"1\" class=\"dataframe\">\n",
       "  <thead>\n",
       "    <tr style=\"text-align: right;\">\n",
       "      <th></th>\n",
       "      <th>C1</th>\n",
       "      <th>C2</th>\n",
       "      <th>C3</th>\n",
       "    </tr>\n",
       "  </thead>\n",
       "  <tbody>\n",
       "    <tr>\n",
       "      <th>A</th>\n",
       "      <td>1.25</td>\n",
       "      <td>1</td>\n",
       "      <td>0.1</td>\n",
       "    </tr>\n",
       "    <tr>\n",
       "      <th>B</th>\n",
       "      <td>3.45</td>\n",
       "      <td>2</td>\n",
       "      <td>0.4</td>\n",
       "    </tr>\n",
       "    <tr>\n",
       "      <th>C</th>\n",
       "      <td>4.40</td>\n",
       "      <td>3</td>\n",
       "      <td>1.5</td>\n",
       "    </tr>\n",
       "    <tr>\n",
       "      <th>D</th>\n",
       "      <td>5.00</td>\n",
       "      <td>4</td>\n",
       "      <td>6.0</td>\n",
       "    </tr>\n",
       "  </tbody>\n",
       "</table>\n",
       "</div>"
      ],
      "text/plain": [
       "     C1  C2   C3\n",
       "A  1.25   1  0.1\n",
       "B  3.45   2  0.4\n",
       "C  4.40   3  1.5\n",
       "D  5.00   4  6.0"
      ]
     },
     "metadata": {},
     "output_type": "display_data"
    }
   ],
   "source": [
    "imprimir_tabla([\"C1\",\"C2\",\"C3\"],\n",
    "               [[1.25,3.45,4.4,5.0],[1,2,3,4],[0.1,0.4,1.5,6]],\n",
    "               [\"A\",\"B\",\"C\",\"D\"])"
   ]
  },
  {
   "cell_type": "markdown",
   "metadata": {},
   "source": [
    "## Grafico"
   ]
  },
  {
   "cell_type": "code",
   "execution_count": 8,
   "metadata": {},
   "outputs": [],
   "source": [
    "%matplotlib inline\n",
    "\n",
    "import matplotlib.pyplot as plt\n",
    "\n",
    "\n",
    "def graficar(x,y,\n",
    "             titulo = \"\",\n",
    "             nombreEjeX = \"\",\n",
    "             nombreEjeY = \"\",\n",
    "             limites = [None,None,None,None]):\n",
    "\n",
    "    #tamaño de la figura\n",
    "    plt.figure(figsize=(10, 10))\n",
    "    plt.style.use(\"classic\")\n",
    "    \n",
    "    plt.plot(x, y,marker=\"o\")\n",
    "    plt.minorticks_on()\n",
    "    \n",
    "    if limites[0] is not None:\n",
    "        plt.xlim(left=limites[0])\n",
    "    if limites[1] is not None:\n",
    "        plt.xlim(right=limites[1])\n",
    "    if limites[2] is not None:\n",
    "        plt.ylim(bottom=limites[2])\n",
    "    if limites[3] is not None:\n",
    "        plt.ylim(top=limites[3])\n",
    "\n",
    "    plt.xlabel(nombreEjeX)\n",
    "    plt.ylabel(nombreEjeY)\n",
    "\n",
    "    plt.title(titulo)\n",
    "    plt.show()"
   ]
  },
  {
   "cell_type": "code",
   "execution_count": 9,
   "metadata": {},
   "outputs": [
    {
     "data": {
      "image/png": "[encoded data removed]",
      "text/plain": [
       "<Figure size 720x720 with 1 Axes>"
      ]
     },
     "metadata": {
      "needs_background": "light"
     },
     "output_type": "display_data"
    }
   ],
   "source": [
    "graficar([1,2,3,4,5],[1,4,9,16,25],\n",
    "     titulo = \"Test\",\n",
    "     nombreEjeX = \"Eje X\",\n",
    "     nombreEjeY = \"Eje Y\",\n",
    "     limites = [0,None,0,None])"
   ]
  }
 ],
 "metadata": {
  "kernelspec": {
   "display_name": "Python 3",
   "language": "python",
   "name": "python3"
  },
  "language_info": {
   "codemirror_mode": {
    "name": "ipython",
    "version": 3
   },
   "file_extension": ".py",
   "mimetype": "text/x-python",
   "name": "python",
   "nbconvert_exporter": "python",
   "pygments_lexer": "ipython3",
   "version": "3.7.1"
  }
 },
 "nbformat": 4,
 "nbformat_minor": 2
}
