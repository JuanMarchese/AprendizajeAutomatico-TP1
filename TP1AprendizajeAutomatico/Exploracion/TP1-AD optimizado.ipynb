{
 "cells": [
  {
   "cell_type": "markdown",
   "metadata": {},
   "source": [
    "# TP1"
   ]
  },
  {
   "cell_type": "code",
   "execution_count": 11,
   "metadata": {},
   "outputs": [],
   "source": [
    "import numpy as np\n",
    "import pandas as pd\n",
    "import pydotplus\n",
    "import matplotlib.pyplot as plt\n",
    "import seaborn as sns\n",
    "from IPython.display import Image\n",
    "from IPython.display import display\n",
    "from sklearn import preprocessing\n",
    "from sklearn.externals.six import StringIO  \n",
    "from sklearn.tree import DecisionTreeClassifier\n",
    "from sklearn.tree import export_graphviz\n",
    "from sklearn.metrics import accuracy_score\n",
    "from sklearn.metrics import roc_auc_score\n",
    "from sklearn.metrics import roc_curve\n",
    "from sklearn.model_selection import KFold\n",
    "from sklearn.model_selection import cross_val_score, train_test_split\n",
    "from sklearn.naive_bayes import GaussianNB\n",
    "from sklearn.model_selection import GridSearchCV\n",
    "from sklearn.metrics import classification_report, confusion_matrix\n"
   ]
  },
  {
   "cell_type": "markdown",
   "metadata": {},
   "source": [
    "## Lectura del dataset\n",
    "\n",
    "Se reemplaza el atributo \"Data of birth\" por \"Age\", encodeamos \"Social Class\". También encodeamos \"Presence of Children\" para que tome 2 valores: 0 si no hay hijos, 1 en caso contrario"
   ]
  },
  {
   "cell_type": "code",
   "execution_count": 6,
   "metadata": {},
   "outputs": [],
   "source": [
    "def readCsv():\n",
    "    df = pd.read_csv(\"FullData2.csv\")\n",
    "    \n",
    "    #Agregamos atributo edad\n",
    "    df['Date of birth'] = pd.to_datetime('today').year - pd.to_datetime(df['Date of birth'],format='%Y-%m-%d').dt.year\n",
    "    df = df.rename(columns={'Date of birth': 'Age' })\n",
    "    \n",
    "    #Encode social class\n",
    "    socialClassEncoder = preprocessing.LabelEncoder()\n",
    "    socialClassEncoder.fit([\"AB\", \"C1\", \"C2\", \"D \", \"E \"])\n",
    "    \n",
    "    df['Social Class'] = socialClassEncoder.transform(df['Social Class'])\n",
    "    \n",
    "    #Agrupamos en 2 clases \"Presence of Children\"\n",
    "    df['Presence of Children'] = df['Presence of Children'].apply(lambda x: 1 if x > 1 else 0)\n",
    "    \n",
    "    return df\n",
    "\n",
    "df = readCsv()"
   ]
  },
  {
   "cell_type": "markdown",
   "metadata": {},
   "source": [
    "## 1. Partición de datos \n",
    "\n",
    "Particionamos el conjunto entre datos de entramiento y de test. Los de validación se van a ir generando en cada uno de los k-folds. "
   ]
  },
  {
   "cell_type": "code",
   "execution_count": 7,
   "metadata": {
    "scrolled": false
   },
   "outputs": [],
   "source": [
    "def partitionate(df):\n",
    "    #Seteamos Presence of Children como target\n",
    "    targetColumn = \"Presence of Children\"\n",
    "    \n",
    "    #El resto de las columnas las vamos a usar como feature para clasificar\n",
    "    features = list(df.columns)\n",
    "    features.remove(targetColumn)\n",
    "    \n",
    "    #Eliminamos otras columnas que están muy relacionadas con lo que queremos predecir (deberíamos sacarlas del csv)\n",
    "    features.remove(\"Demographic cell 1\")\n",
    "    features.remove(\"Mosaic Classification\")\n",
    "    features.remove(\"Life stage\")\n",
    "    features.remove(\"No of People\")\n",
    "    features.remove(\"Age\")\n",
    "    features.remove(\"Terminal age of education\")\n",
    "\n",
    "    return train_test_split(df[features], df[targetColumn], train_size=0.8, test_size=0.2, random_state=42)\n",
    "\n",
    "X, test_X, y, test_y = partitionate(df)"
   ]
  },
  {
   "cell_type": "markdown",
   "metadata": {},
   "source": [
    "# Comparación de algoritmos\n",
    "Comparar Naive Bayes y árboles de decisión. Para hacerlo usar 5-fold crossvalidation para la exploración de la mejor solución en cada caso. En árboles de\n",
    "decisión determinar qué tamaño de árbol conviene y si conviene utilizar Gini o\n",
    "Information Gain (todo esto con el conjunto de desarrollo y utilizando grid search).\n",
    "Utilizar ROC AUC como métrica."
   ]
  },
  {
   "cell_type": "code",
   "execution_count": 42,
   "metadata": {},
   "outputs": [
    {
     "name": "stdout",
     "output_type": "stream",
     "text": [
      "scoring ROC train:    79.44 %\n",
      "scoring ROC test :    68.68 %\n"
     ]
    }
   ],
   "source": [
    "# se instancia el modelo NB \n",
    "model = GaussianNB()\n",
    "model.fit(X,y)\n",
    "\n",
    "# en train\n",
    "scores = cross_val_score(model, X, y, cv=5, scoring='roc_auc')\n",
    "print('scoring ROC train:   ',round(100*scores.mean(),2),'%')\n",
    "predict_test=model.predict(test_X)\n",
    "print('scoring ROC test :   ',round(roc_auc_score(test_y, predict_test)*100,2),'%')"
   ]
  },
  {
   "cell_type": "code",
   "execution_count": 43,
   "metadata": {},
   "outputs": [
    {
     "name": "stdout",
     "output_type": "stream",
     "text": [
      "Repote de métricas:\n",
      "              precision    recall  f1-score   support\n",
      "\n",
      "           0       0.84      0.54      0.66      1614\n",
      "           1       0.52      0.83      0.64       966\n",
      "\n",
      "   micro avg       0.65      0.65      0.65      2580\n",
      "   macro avg       0.68      0.69      0.65      2580\n",
      "weighted avg       0.72      0.65      0.65      2580\n",
      "\n"
     ]
    }
   ],
   "source": [
    "print('Repote de métricas:')\n",
    "print (classification_report(test_y, predict_test))"
   ]
  },
  {
   "cell_type": "code",
   "execution_count": 44,
   "metadata": {},
   "outputs": [
    {
     "name": "stdout",
     "output_type": "stream",
     "text": [
      "DecisionTreeClassifier(class_weight=None, criterion='gini', max_depth=6,\n",
      "            max_features=None, max_leaf_nodes=None,\n",
      "            min_impurity_decrease=0.0, min_impurity_split=None,\n",
      "            min_samples_leaf=1, min_samples_split=2,\n",
      "            min_weight_fraction_leaf=0.0, presort=False, random_state=None,\n",
      "            splitter='best')\n",
      "\n",
      "mejor estimación:    86.23 %\n"
     ]
    }
   ],
   "source": [
    "# se optimiza el modelo de AD\n",
    "profundidad = list(range(1, 41))\n",
    "criterio = [\"gini\",\"entropy\"]\n",
    "split=['best','random']\n",
    "\n",
    "#instanciamos el modelo\n",
    "tree = DecisionTreeClassifier(max_depth = 3, criterion = 'gini',splitter='best')\n",
    "        \n",
    "param_grid = dict(max_depth=profundidad, criterion=criterio,splitter=split)\n",
    "grid = GridSearchCV(tree, param_grid, cv=5, scoring='roc_auc')\n",
    "grid.fit(X, y)\n",
    "\n",
    "print (grid.best_estimator_)\n",
    "print()\n",
    "print('mejor estimación:   ',round(grid.best_score_*100,2),'%')"
   ]
  },
  {
   "cell_type": "code",
   "execution_count": 45,
   "metadata": {},
   "outputs": [
    {
     "name": "stdout",
     "output_type": "stream",
     "text": [
      "scoring ROC test :    78.18 %\n",
      "\n",
      "Reporte de metricas:\n",
      "              precision    recall  f1-score   support\n",
      "\n",
      "           0       0.82      0.89      0.85      1614\n",
      "           1       0.78      0.68      0.73       966\n",
      "\n",
      "   micro avg       0.81      0.81      0.81      2580\n",
      "   macro avg       0.80      0.78      0.79      2580\n",
      "weighted avg       0.81      0.81      0.80      2580\n",
      "\n",
      "\n",
      "Matriz de confusión:\n",
      "[[1431  183]\n",
      " [ 312  654]]\n"
     ]
    }
   ],
   "source": [
    "# estimamos con los parámetros optimos\n",
    "predict_test=grid.predict(test_X)\n",
    "print('scoring ROC test :   ',round(roc_auc_score(test_y, predict_test)*100,2),'%')\n",
    "print()\n",
    "print('Reporte de metricas:')\n",
    "print (classification_report(test_y, predict_test))\n",
    "print()\n",
    "print('Matriz de confusión:')\n",
    "print(confusion_matrix(test_y, predict_test))"
   ]
  },
  {
   "cell_type": "code",
   "execution_count": null,
   "metadata": {},
   "outputs": [],
   "source": []
  }
 ],
 "metadata": {
  "kernelspec": {
   "display_name": "Python 3",
   "language": "python",
   "name": "python3"
  },
  "language_info": {
   "codemirror_mode": {
    "name": "ipython",
    "version": 3
   },
   "file_extension": ".py",
   "mimetype": "text/x-python",
   "name": "python",
   "nbconvert_exporter": "python",
   "pygments_lexer": "ipython3",
   "version": "3.6.8"
  }
 },
 "nbformat": 4,
 "nbformat_minor": 2
}
