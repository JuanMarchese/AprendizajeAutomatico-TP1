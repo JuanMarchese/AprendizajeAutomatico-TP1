{
 "cells": [
  {
   "cell_type": "markdown",
   "metadata": {},
   "source": [
    "# TP1"
   ]
  },
  {
   "cell_type": "code",
   "execution_count": 15,
   "metadata": {},
   "outputs": [],
   "source": [
    "import numpy as np\n",
    "import pandas as pd\n",
    "import pydotplus\n",
    "import random\n",
    "import matplotlib.pyplot as plt\n",
    "import seaborn as sns\n",
    "\n",
    "from IPython.display import Image, display\n",
    "from sklearn import preprocessing\n",
    "from sklearn.externals.six import StringIO  \n",
    "from sklearn.tree import DecisionTreeClassifier\n",
    "from sklearn.tree import export_graphviz\n",
    "from sklearn.metrics import accuracy_score\n",
    "from sklearn.metrics import roc_auc_score\n",
    "from sklearn.metrics import roc_curve\n",
    "from sklearn import metrics\n",
    "from sklearn.model_selection import KFold\n",
    "from sklearn.naive_bayes import GaussianNB\n",
    "from sklearn.metrics import confusion_matrix\n",
    "from sklearn.model_selection import cross_val_score, train_test_split\n",
    "from sklearn.model_selection import GridSearchCV\n",
    "from sklearn.metrics import classification_report, confusion_matrix"
   ]
  },
  {
   "cell_type": "markdown",
   "metadata": {},
   "source": [
    "## Lectura del dataset\n",
    "\n",
    "Se reemplaza el atributo \"Data of birth\" por \"Age\", encodeamos \"Social Class\". También encodeamos \"Presence of Children\" para que tome 2 valores: 0 si no hay hijos, 1 en caso contrario"
   ]
  },
  {
   "cell_type": "code",
   "execution_count": 6,
   "metadata": {},
   "outputs": [],
   "source": [
    "def readCsv():\n",
    "    df = pd.read_csv(\"FullData2.csv\")\n",
    "    \n",
    "    #Agregamos atributo edad\n",
    "    df['Date of birth'] = pd.to_datetime('today').year - pd.to_datetime(df['Date of birth'],format='%Y-%m-%d').dt.year\n",
    "    df = df.rename(columns={'Date of birth': 'Age' })\n",
    "    \n",
    "    #Encode social class\n",
    "    socialClassEncoder = preprocessing.LabelEncoder()\n",
    "    socialClassEncoder.fit([\"AB\", \"C1\", \"C2\", \"D \", \"E \"])\n",
    "    \n",
    "    df['Social Class'] = socialClassEncoder.transform(df['Social Class'])\n",
    "    \n",
    "    #Agrupamos en 2 clases \"Presence of Children\"\n",
    "    df['Presence of Children'] = df['Presence of Children'].apply(lambda x: 1 if x > 1 else 0)\n",
    "    \n",
    "    return df\n",
    "\n",
    "df = readCsv()"
   ]
  },
  {
   "cell_type": "markdown",
   "metadata": {},
   "source": [
    "## 1. Partición de datos \n",
    "\n",
    "Particionamos el conjunto entre datos de entramiento y de test. Los de validación se van a ir generando en cada uno de los k-folds. "
   ]
  },
  {
   "cell_type": "code",
   "execution_count": 7,
   "metadata": {
    "scrolled": false
   },
   "outputs": [],
   "source": [
    "def partitionate(df):\n",
    "    #Seteamos Presence of Children como target\n",
    "    targetColumn = \"Presence of Children\"\n",
    "    \n",
    "    #El resto de las columnas las vamos a usar como feature para clasificar\n",
    "    features = list(df.columns)\n",
    "    features.remove(targetColumn)\n",
    "    \n",
    "    #Eliminamos otras columnas que están muy relacionadas con lo que queremos predecir (deberíamos sacarlas del csv)\n",
    "    features.remove(\"Demographic cell 1\")\n",
    "    features.remove(\"Mosaic Classification\")\n",
    "    features.remove(\"Life stage\")\n",
    "    features.remove(\"No of People\")\n",
    "    features.remove(\"Age\")\n",
    "    features.remove(\"Terminal age of education\")\n",
    "\n",
    "    X, test_X, y, test_y = train_test_split(df[features], df[targetColumn], train_size=0.8, test_size=0.2, random_state=42)\n",
    "    return X, test_X, y, test_y, features\n",
    "\n",
    "X, test_X, y, test_y, features = partitionate(df)"
   ]
  },
  {
   "cell_type": "markdown",
   "metadata": {},
   "source": [
    "## 2. Árboles de decisión \n",
    "\n",
    "### 2.1\n",
    "Entrenar un árbol de decisión con altura 3 y el resto de los hiperparámetros con su valor en default. Estimar la performance del modelo utilizando 5-fold cross validation utilizando el Accuracy y ROC AUC"
   ]
  },
  {
   "cell_type": "code",
   "execution_count": 8,
   "metadata": {},
   "outputs": [
    {
     "data": {
      "text/html": [
       "<div>\n",
       "<style scoped>\n",
       "    .dataframe tbody tr th:only-of-type {\n",
       "        vertical-align: middle;\n",
       "    }\n",
       "\n",
       "    .dataframe tbody tr th {\n",
       "        vertical-align: top;\n",
       "    }\n",
       "\n",
       "    .dataframe thead th {\n",
       "        text-align: right;\n",
       "    }\n",
       "</style>\n",
       "<table border=\"1\" class=\"dataframe\">\n",
       "  <thead>\n",
       "    <tr style=\"text-align: right;\">\n",
       "      <th></th>\n",
       "      <th>It 1</th>\n",
       "      <th>It 2</th>\n",
       "      <th>It 3</th>\n",
       "      <th>It 4</th>\n",
       "      <th>It 5</th>\n",
       "      <th>Promedio</th>\n",
       "      <th>Desvio</th>\n",
       "    </tr>\n",
       "  </thead>\n",
       "  <tbody>\n",
       "    <tr>\n",
       "      <th>Accuracy: Conjunto de validación</th>\n",
       "      <td>0.794</td>\n",
       "      <td>0.799</td>\n",
       "      <td>0.806</td>\n",
       "      <td>0.804</td>\n",
       "      <td>0.786</td>\n",
       "      <td>0.798</td>\n",
       "      <td>0.007</td>\n",
       "    </tr>\n",
       "    <tr>\n",
       "      <th>Accuracy: Conjunto de entrenamiento</th>\n",
       "      <td>0.801</td>\n",
       "      <td>0.800</td>\n",
       "      <td>0.796</td>\n",
       "      <td>0.797</td>\n",
       "      <td>0.803</td>\n",
       "      <td>0.799</td>\n",
       "      <td>0.003</td>\n",
       "    </tr>\n",
       "    <tr>\n",
       "      <th>ROC AUC: Conjunto de validación</th>\n",
       "      <td>0.755</td>\n",
       "      <td>0.755</td>\n",
       "      <td>0.761</td>\n",
       "      <td>0.758</td>\n",
       "      <td>0.749</td>\n",
       "      <td>0.756</td>\n",
       "      <td>0.004</td>\n",
       "    </tr>\n",
       "    <tr>\n",
       "      <th>ROC AUC: Conjunto de entrenamiento</th>\n",
       "      <td>0.760</td>\n",
       "      <td>0.760</td>\n",
       "      <td>0.752</td>\n",
       "      <td>0.755</td>\n",
       "      <td>0.761</td>\n",
       "      <td>0.758</td>\n",
       "      <td>0.003</td>\n",
       "    </tr>\n",
       "  </tbody>\n",
       "</table>\n",
       "</div>"
      ],
      "text/plain": [
       "                                      It 1   It 2   It 3   It 4   It 5  \\\n",
       "Accuracy: Conjunto de validación     0.794  0.799  0.806  0.804  0.786   \n",
       "Accuracy: Conjunto de entrenamiento  0.801  0.800  0.796  0.797  0.803   \n",
       "ROC AUC: Conjunto de validación      0.755  0.755  0.761  0.758  0.749   \n",
       "ROC AUC: Conjunto de entrenamiento   0.760  0.760  0.752  0.755  0.761   \n",
       "\n",
       "                                     Promedio  Desvio  \n",
       "Accuracy: Conjunto de validación        0.798   0.007  \n",
       "Accuracy: Conjunto de entrenamiento     0.799   0.003  \n",
       "ROC AUC: Conjunto de validación         0.756   0.004  \n",
       "ROC AUC: Conjunto de entrenamiento      0.758   0.003  "
      ]
     },
     "metadata": {},
     "output_type": "display_data"
    }
   ],
   "source": [
    "def kfold(X, y, max_depth = 3, criterion = \"gini\", round_decimals = 3):\n",
    "    kf = KFold(n_splits = 5)\n",
    "    \n",
    "    accuracyValidation = []\n",
    "    accuracyTrain = []\n",
    "    rocAucValidation = []\n",
    "    rocAucTrain = []\n",
    "    \n",
    "    for train_index, validation_index in kf.split(X):\n",
    "        #Separamos los folds\n",
    "        train_X, validation_X = X.iloc[train_index, :], X.iloc[validation_index, :]\n",
    "        train_y, validation_y = y.iloc[train_index], y.iloc[validation_index]\n",
    "    \n",
    "        #Entrenamos el árbol\n",
    "        dt = DecisionTreeClassifier(max_depth = max_depth, criterion = criterion)\n",
    "        dt.fit(train_X, train_y)\n",
    "        \n",
    "        #Guardamos los resultados\n",
    "        accuracyValidation.append(np.round(accuracy_score(validation_y, dt.predict(validation_X)), round_decimals))\n",
    "        accuracyTrain.append(np.round(accuracy_score(train_y, dt.predict(train_X)), round_decimals))\n",
    "        \n",
    "        rocAucValidation.append(np.round(roc_auc_score(validation_y, dt.predict(validation_X)), round_decimals))\n",
    "        rocAucTrain.append(np.round(roc_auc_score(train_y, dt.predict(train_X)), round_decimals))\n",
    "                \n",
    "    return accuracyValidation, accuracyTrain, rocAucValidation, rocAucTrain\n",
    "\n",
    "def imprimir_tabla(nombres_columnas,valores_por_columna,nombres_filas):\n",
    "    diccionario = {}\n",
    "    \n",
    "    for i in range(0,len(nombres_columnas)):\n",
    "        diccionario[nombres_columnas[i]] = valores_por_columna[i]\n",
    "\n",
    "    dataFrame = pd.DataFrame(diccionario)\n",
    "    dataFrame.index = nombres_filas\n",
    "    \n",
    "    display(dataFrame)\n",
    "\n",
    "    \n",
    "#2.1\n",
    "accuracyValidation, accuracyTrain, rocAucValidation, rocAucTrain = kfold(X, y)\n",
    "\n",
    "columnas = ['It 1','It 2','It 3','It 4','It 5','Promedio','Desvio']\n",
    "filas = ['Accuracy: Conjunto de validación','Accuracy: Conjunto de entrenamiento','ROC AUC: Conjunto de validación','ROC AUC: Conjunto de entrenamiento']\n",
    "valores_por_columnas = [[],[],[],[],[],[],[]]\n",
    "\n",
    "for valores in [accuracyValidation, accuracyTrain, rocAucValidation, rocAucTrain]:\n",
    "    for i in range(0,5):\n",
    "        valores_por_columnas[i].append(valores[i])\n",
    "    valores_por_columnas[5].append(np.round(np.mean(valores), 3))\n",
    "    valores_por_columnas[6].append(np.round(np.std(valores), 3))\n",
    "\n",
    "imprimir_tabla(columnas,valores_por_columnas,filas)"
   ]
  },
  {
   "cell_type": "markdown",
   "metadata": {},
   "source": [
    "### 2.2 \n",
    "Entrenar árboles de decisión con las siguientes combinaciones. En todos los casos probar e informar Accuracy y ROC AUC para training y para validación con Gini y con Information Gain haciendo cross validation:\n",
    "    a. Altura máxima 3\n",
    "    b. Altura máxima 6\n",
    "    c. Sin límite de altura máxima"
   ]
  },
  {
   "cell_type": "code",
   "execution_count": 9,
   "metadata": {
    "scrolled": true
   },
   "outputs": [
    {
     "data": {
      "text/html": [
       "<div>\n",
       "<style scoped>\n",
       "    .dataframe tbody tr th:only-of-type {\n",
       "        vertical-align: middle;\n",
       "    }\n",
       "\n",
       "    .dataframe tbody tr th {\n",
       "        vertical-align: top;\n",
       "    }\n",
       "\n",
       "    .dataframe thead th {\n",
       "        text-align: right;\n",
       "    }\n",
       "</style>\n",
       "<table border=\"1\" class=\"dataframe\">\n",
       "  <thead>\n",
       "    <tr style=\"text-align: right;\">\n",
       "      <th></th>\n",
       "      <th>Acc Val</th>\n",
       "      <th>Acc Train</th>\n",
       "      <th>ROC AUC Val</th>\n",
       "      <th>ROC AUC Train</th>\n",
       "    </tr>\n",
       "  </thead>\n",
       "  <tbody>\n",
       "    <tr>\n",
       "      <th>Altura 3 Gini</th>\n",
       "      <td>0.7978</td>\n",
       "      <td>0.7994</td>\n",
       "      <td>0.7556</td>\n",
       "      <td>0.7576</td>\n",
       "    </tr>\n",
       "    <tr>\n",
       "      <th>Altura 3 Information Gain</th>\n",
       "      <td>0.7988</td>\n",
       "      <td>0.7996</td>\n",
       "      <td>0.7570</td>\n",
       "      <td>0.7580</td>\n",
       "    </tr>\n",
       "    <tr>\n",
       "      <th>Altura 6 Gini</th>\n",
       "      <td>0.8052</td>\n",
       "      <td>0.8242</td>\n",
       "      <td>0.7752</td>\n",
       "      <td>0.7946</td>\n",
       "    </tr>\n",
       "    <tr>\n",
       "      <th>Altura 6 Information Gain</th>\n",
       "      <td>0.8028</td>\n",
       "      <td>0.8174</td>\n",
       "      <td>0.7658</td>\n",
       "      <td>0.7814</td>\n",
       "    </tr>\n",
       "    <tr>\n",
       "      <th>Sin limite Gini</th>\n",
       "      <td>0.7826</td>\n",
       "      <td>0.9990</td>\n",
       "      <td>0.7688</td>\n",
       "      <td>0.9990</td>\n",
       "    </tr>\n",
       "    <tr>\n",
       "      <th>Sin limite Information Gain</th>\n",
       "      <td>0.7756</td>\n",
       "      <td>0.9990</td>\n",
       "      <td>0.7620</td>\n",
       "      <td>0.9990</td>\n",
       "    </tr>\n",
       "  </tbody>\n",
       "</table>\n",
       "</div>"
      ],
      "text/plain": [
       "                             Acc Val  Acc Train  ROC AUC Val  ROC AUC Train\n",
       "Altura 3 Gini                 0.7978     0.7994       0.7556         0.7576\n",
       "Altura 3 Information Gain     0.7988     0.7996       0.7570         0.7580\n",
       "Altura 6 Gini                 0.8052     0.8242       0.7752         0.7946\n",
       "Altura 6 Information Gain     0.8028     0.8174       0.7658         0.7814\n",
       "Sin limite Gini               0.7826     0.9990       0.7688         0.9990\n",
       "Sin limite Information Gain   0.7756     0.9990       0.7620         0.9990"
      ]
     },
     "metadata": {},
     "output_type": "display_data"
    }
   ],
   "source": [
    "alturas = [3,6,None]\n",
    "alt_names = ['Altura 3','Altura 6','Sin limite']\n",
    "criterio = [\"gini\",\"entropy\"]\n",
    "crit_names = ['Gini','Information Gain']\n",
    "\n",
    "columnas = ['Acc Val','Acc Train','ROC AUC Val','ROC AUC Train']\n",
    "valores_por_columnas = [[],[],[],[]]\n",
    "filas = []\n",
    "\n",
    "for i in range(0,len(alturas)):\n",
    "    for j in range(0,len(criterio)):\n",
    "        result = kfold(X, y, max_depth = alturas[i],criterion = criterio[j])\n",
    "        for k in range(0,4):\n",
    "            valores_por_columnas[k].append(np.mean(result[k]))\n",
    "        \n",
    "        filas.append(alt_names[i] + \" \" + crit_names[j])\n",
    "\n",
    "imprimir_tabla(columnas,valores_por_columnas,filas)\n"
   ]
  },
  {
   "cell_type": "markdown",
   "metadata": {},
   "source": [
    "### 2.3 \n",
    "De todos los árboles, el que mejor resultados dio es uno de altura 6 con Gini. "
   ]
  },
  {
   "cell_type": "code",
   "execution_count": 10,
   "metadata": {},
   "outputs": [
    {
     "name": "stdout",
     "output_type": "stream",
     "text": [
      "Accuracy:  0.8081395348837209\n"
     ]
    }
   ],
   "source": [
    "dt = DecisionTreeClassifier(max_depth=6, min_samples_split=3)\n",
    "dt.fit(X, y)\n",
    "\n",
    "print(\"Accuracy: \", accuracy_score(test_y, dt.predict(test_X)))\n",
    "\n",
    "#dot_data = StringIO()\n",
    "#export_graphviz(dt, out_file=dot_data, filled=True, rounded=True, special_characters=True, feature_names=features)\n",
    "#graph = pydotplus.graph_from_dot_data(dot_data.getvalue())  \n",
    "#Image(graph.create_png())"
   ]
  },
  {
   "cell_type": "markdown",
   "metadata": {},
   "source": [
    "Aplicamos faltantes a la featura que está en la raiz del árbol, \"Working status\" y reemplazamos por la moda. \n"
   ]
  },
  {
   "cell_type": "code",
   "execution_count": 29,
   "metadata": {
    "scrolled": true
   },
   "outputs": [
    {
     "data": {
      "text/html": [
       "<div>\n",
       "<style scoped>\n",
       "    .dataframe tbody tr th:only-of-type {\n",
       "        vertical-align: middle;\n",
       "    }\n",
       "\n",
       "    .dataframe tbody tr th {\n",
       "        vertical-align: top;\n",
       "    }\n",
       "\n",
       "    .dataframe thead th {\n",
       "        text-align: right;\n",
       "    }\n",
       "</style>\n",
       "<table border=\"1\" class=\"dataframe\">\n",
       "  <thead>\n",
       "    <tr style=\"text-align: right;\">\n",
       "      <th></th>\n",
       "      <th>0%</th>\n",
       "      <th>5%</th>\n",
       "      <th>10%</th>\n",
       "      <th>15%</th>\n",
       "      <th>20%</th>\n",
       "      <th>25%</th>\n",
       "      <th>30%</th>\n",
       "      <th>35%</th>\n",
       "      <th>40%</th>\n",
       "      <th>45%</th>\n",
       "      <th>50%</th>\n",
       "      <th>55%</th>\n",
       "      <th>60%</th>\n",
       "      <th>65%</th>\n",
       "      <th>70%</th>\n",
       "      <th>75%</th>\n",
       "      <th>80%</th>\n",
       "    </tr>\n",
       "  </thead>\n",
       "  <tbody>\n",
       "    <tr>\n",
       "      <th>Moda</th>\n",
       "      <td>0.808</td>\n",
       "      <td>0.803</td>\n",
       "      <td>0.807</td>\n",
       "      <td>0.802</td>\n",
       "      <td>0.805</td>\n",
       "      <td>0.802</td>\n",
       "      <td>0.798</td>\n",
       "      <td>0.800</td>\n",
       "      <td>0.805</td>\n",
       "      <td>0.802</td>\n",
       "      <td>0.775</td>\n",
       "      <td>0.790</td>\n",
       "      <td>0.783</td>\n",
       "      <td>0.780</td>\n",
       "      <td>0.776</td>\n",
       "      <td>0.775</td>\n",
       "      <td>0.776</td>\n",
       "    </tr>\n",
       "    <tr>\n",
       "      <th>Moda por clase</th>\n",
       "      <td>0.808</td>\n",
       "      <td>0.799</td>\n",
       "      <td>0.805</td>\n",
       "      <td>0.800</td>\n",
       "      <td>0.798</td>\n",
       "      <td>0.802</td>\n",
       "      <td>0.795</td>\n",
       "      <td>0.796</td>\n",
       "      <td>0.790</td>\n",
       "      <td>0.788</td>\n",
       "      <td>0.795</td>\n",
       "      <td>0.791</td>\n",
       "      <td>0.798</td>\n",
       "      <td>0.793</td>\n",
       "      <td>0.783</td>\n",
       "      <td>0.782</td>\n",
       "      <td>0.765</td>\n",
       "    </tr>\n",
       "  </tbody>\n",
       "</table>\n",
       "</div>"
      ],
      "text/plain": [
       "                   0%     5%    10%    15%    20%    25%    30%    35%    40%  \\\n",
       "Moda            0.808  0.803  0.807  0.802  0.805  0.802  0.798  0.800  0.805   \n",
       "Moda por clase  0.808  0.799  0.805  0.800  0.798  0.802  0.795  0.796  0.790   \n",
       "\n",
       "                  45%    50%    55%    60%    65%    70%    75%    80%  \n",
       "Moda            0.802  0.775  0.790  0.783  0.780  0.776  0.775  0.776  \n",
       "Moda por clase  0.788  0.795  0.791  0.798  0.793  0.783  0.782  0.765  "
      ]
     },
     "metadata": {},
     "output_type": "display_data"
    }
   ],
   "source": [
    "def ind_faltantes(df, percentage, missingColumn, useClass = False, target = \"Presence of Children\"):\n",
    "    #Llenamos una columna con NaN\n",
    "    df[missingColumn] = df[missingColumn].mask(np.random.random(df[missingColumn].shape) < (percentage / 100.0))\n",
    "\n",
    "    #Calculamos la moda y la moda por clase\n",
    "    mode = df[missingColumn].mode()[0]\n",
    "    classes = df[target].unique()\n",
    "    classMode = []\n",
    "    for i in range(len(classes)):\n",
    "        classMode.append(df[df[target] == classes[i]][missingColumn].mode()[0])\n",
    "    \n",
    "    #Llenamos los missing por la moda\n",
    "    for idx, row in df.iterrows():\n",
    "        if np.isnan(row[missingColumn]):\n",
    "            if useClass:\n",
    "                df.at[idx, missingColumn] = classMode[int(row[target])]\n",
    "            else:\n",
    "                df.at[idx, missingColumn] = mode\n",
    "                \n",
    "    return df    \n",
    "\n",
    "def test_faltantes(X, y, missingColumn, useClass, target):\n",
    "    results = []\n",
    "    \n",
    "    #Volvemos a generar el dataset para que sea más facil calcular la moda\n",
    "    trainDf = X.copy()\n",
    "    trainDf[target] = y    \n",
    "    \n",
    "    #Iteramos para todos los faltantes\n",
    "    for i in np.arange(0, 85, 5):\n",
    "        missingDf = trainDf.copy()\n",
    "        missingDf = ind_faltantes(missingDf, i, missingColumn, useClass)    \n",
    "        \n",
    "        #print(missingDf)\n",
    "        \n",
    "        #Separamos en features y target\n",
    "        y = missingDf[target]\n",
    "        features = list(missingDf.columns)\n",
    "        features.remove(target)\n",
    "        \n",
    "        X = missingDf[features]\n",
    "        \n",
    "        dt = DecisionTreeClassifier(max_depth = 6, criterion = \"gini\")\n",
    "        dt.fit(X, y)\n",
    "            \n",
    "        #Se van guardando los resultados\n",
    "        accuracy = np.round(accuracy_score(test_y, dt.predict(test_X)), 3)\n",
    "        results.append(accuracy)\n",
    "        \n",
    "    return results\n",
    "\n",
    "columnas = ['0%','5%','10%','15%','20%','25%','30%','35%','40%','45%','50%','55%','60%','65%','70%','75%','80%']\n",
    "filas = ['Moda','Moda por clase']\n",
    "valores_por_columnas = []\n",
    "\n",
    "resultsModa = test_faltantes(X, y, \"Working status\", False, \"Presence of Children\")\n",
    "resultsModaPorClase = test_faltantes(X, y, \"Working status\", True, \"Presence of Children\")\n",
    "            \n",
    "for i in range(len(resultsModa)):\n",
    "    valores_por_columnas.append([resultsModa[i], resultsModaPorClase[i]])\n",
    "\n",
    "imprimir_tabla(columnas,valores_por_columnas,filas)"
   ]
  },
  {
   "cell_type": "markdown",
   "metadata": {},
   "source": [
    "### 2.4 \n",
    "Aplicamos ruido a la feature que Infantil@Late Fringe. No se observan grandes cambios en la accuracy, se puede deber a que empieza a usar otra feature para clasificar."
   ]
  },
  {
   "cell_type": "code",
   "execution_count": 35,
   "metadata": {},
   "outputs": [
    {
     "data": {
      "text/html": [
       "<div>\n",
       "<style scoped>\n",
       "    .dataframe tbody tr th:only-of-type {\n",
       "        vertical-align: middle;\n",
       "    }\n",
       "\n",
       "    .dataframe tbody tr th {\n",
       "        vertical-align: top;\n",
       "    }\n",
       "\n",
       "    .dataframe thead th {\n",
       "        text-align: right;\n",
       "    }\n",
       "</style>\n",
       "<table border=\"1\" class=\"dataframe\">\n",
       "  <thead>\n",
       "    <tr style=\"text-align: right;\">\n",
       "      <th></th>\n",
       "      <th>0%</th>\n",
       "      <th>5%</th>\n",
       "      <th>10%</th>\n",
       "      <th>15%</th>\n",
       "      <th>20%</th>\n",
       "      <th>25%</th>\n",
       "      <th>30%</th>\n",
       "      <th>35%</th>\n",
       "    </tr>\n",
       "  </thead>\n",
       "  <tbody>\n",
       "    <tr>\n",
       "      <th>Accuracy</th>\n",
       "      <td>0.808</td>\n",
       "      <td>0.807</td>\n",
       "      <td>0.807</td>\n",
       "      <td>0.807</td>\n",
       "      <td>0.807</td>\n",
       "      <td>0.807</td>\n",
       "      <td>0.807</td>\n",
       "      <td>0.804</td>\n",
       "    </tr>\n",
       "  </tbody>\n",
       "</table>\n",
       "</div>"
      ],
      "text/plain": [
       "             0%     5%    10%    15%    20%    25%    30%    35%\n",
       "Accuracy  0.808  0.807  0.807  0.807  0.807  0.807  0.807  0.804"
      ]
     },
     "metadata": {},
     "output_type": "display_data"
    }
   ],
   "source": [
    "def ind_ruido(df, percentage, noiseColumn = \"Infantil@Late Fringe\"):\n",
    "    randomCut = percentage / 100\n",
    "    \n",
    "    #Llenamos los missing por la moda\n",
    "    for idx, row in df.iterrows():\n",
    "        if random.random() < randomCut :\n",
    "            df.at[idx, noiseColumn] = df.at[idx, noiseColumn] * 10\n",
    "    \n",
    "    return df    \n",
    "\n",
    "def test_ruido(X, y, noiseColumn, target):\n",
    "    results = []\n",
    "    trainDf = X.copy()\n",
    "    trainDf[target] = y    \n",
    "    \n",
    "    #Iteramos para todos los faltantes\n",
    "    for i in np.arange(0, 40, 5):\n",
    "        noiseDf = trainDf.copy()\n",
    "        noiseDf = ind_ruido(noiseDf, i, noiseColumn)\n",
    "        \n",
    "        #Separamos en features y target\n",
    "        y = noiseDf[target]\n",
    "        features = list(noiseDf.columns)\n",
    "        features.remove(target)\n",
    "        \n",
    "        X = noiseDf[features]\n",
    "        \n",
    "        dt = DecisionTreeClassifier(max_depth = 6, criterion = \"gini\")\n",
    "        dt.fit(X, y)\n",
    "            \n",
    "        #Voy guardando los resultados\n",
    "        accuracy = np.round(accuracy_score(test_y, dt.predict(test_X)), 3)\n",
    "        results.append(accuracy)\n",
    "        \n",
    "    return results\n",
    "\n",
    "results = test_ruido(X, y, \"Infantil@Late Fringe\", \"Presence of Children\")\n",
    "columnas = ['0%','5%','10%','15%','20%','25%','30%','35%']\n",
    "filas = ['Accuracy']\n",
    "\n",
    "valores_por_columnas = []\n",
    "for result in results:\n",
    "    valores_por_columnas.append([result])\n",
    "\n",
    "imprimir_tabla(columnas,valores_por_columnas,filas)"
   ]
  },
  {
   "cell_type": "markdown",
   "metadata": {},
   "source": [
    "## 3. Naive Bayes\n",
    "\n",
    "Ejecutar Naive Bayes, informar las probabilidades condicionales y previas. Realizar\n",
    "las validaciones correspondientes"
   ]
  },
  {
   "cell_type": "code",
   "execution_count": 60,
   "metadata": {},
   "outputs": [],
   "source": [
    "# se instancia el modelo\n",
    "model = GaussianNB()\n",
    "model.fit(X,y)\n",
    "    \n",
    "# se hacen las predicciones sobre test y train\n",
    "predict_train=model.predict(X)\n",
    "predict_test=model.predict(test_X)"
   ]
  },
  {
   "cell_type": "code",
   "execution_count": 61,
   "metadata": {},
   "outputs": [
    {
     "name": "stdout",
     "output_type": "stream",
     "text": [
      "accuracy en train:   66.0 %\n",
      "accuracy en test :   65.0 %\n"
     ]
    }
   ],
   "source": [
    "print('accuracy en train:  ',round(accuracy_score(y, predict_train),2)*100,'%')\n",
    "print('accuracy en test :  ',round(accuracy_score(test_y, predict_test), 2)*100,'%')"
   ]
  },
  {
   "cell_type": "code",
   "execution_count": 62,
   "metadata": {},
   "outputs": [
    {
     "data": {
      "text/plain": [
       "0    62.3\n",
       "1    37.7\n",
       "Name: Presence of Children, dtype: float64"
      ]
     },
     "execution_count": 62,
     "metadata": {},
     "output_type": "execute_result"
    }
   ],
   "source": [
    "# la distribución en train es:\n",
    "round(y.value_counts()/len(y)*100,1)"
   ]
  },
  {
   "cell_type": "markdown",
   "metadata": {},
   "source": [
    "Es decir que la distribución de la base en train es 62.3% de las personas censadas no tienen hijos. El modelo NB propuesto logra mejorar el azar en poco más del 2.7%."
   ]
  },
  {
   "cell_type": "code",
   "execution_count": 63,
   "metadata": {},
   "outputs": [],
   "source": [
    "p_cero=[round(model.predict_proba(test_X)[i][0]*100,2) for i in range(len(model.predict_proba(test_X)))]\n",
    "p_uno=[round(model.predict_proba(test_X)[i][1]*100,2) for i in range(len(model.predict_proba(test_X)))]\n",
    "d={'P(0)/xi':p_cero,'P(1)/xi':p_uno}\n",
    "proba=pd.DataFrame(data=d)"
   ]
  },
  {
   "cell_type": "code",
   "execution_count": 64,
   "metadata": {
    "scrolled": true
   },
   "outputs": [
    {
     "data": {
      "text/html": [
       "<div>\n",
       "<style scoped>\n",
       "    .dataframe tbody tr th:only-of-type {\n",
       "        vertical-align: middle;\n",
       "    }\n",
       "\n",
       "    .dataframe tbody tr th {\n",
       "        vertical-align: top;\n",
       "    }\n",
       "\n",
       "    .dataframe thead th {\n",
       "        text-align: right;\n",
       "    }\n",
       "</style>\n",
       "<table border=\"1\" class=\"dataframe\">\n",
       "  <thead>\n",
       "    <tr style=\"text-align: right;\">\n",
       "      <th></th>\n",
       "      <th>P(0)/xi</th>\n",
       "      <th>P(1)/xi</th>\n",
       "    </tr>\n",
       "  </thead>\n",
       "  <tbody>\n",
       "    <tr>\n",
       "      <th>0</th>\n",
       "      <td>7.52</td>\n",
       "      <td>92.48</td>\n",
       "    </tr>\n",
       "    <tr>\n",
       "      <th>1</th>\n",
       "      <td>100.00</td>\n",
       "      <td>0.00</td>\n",
       "    </tr>\n",
       "    <tr>\n",
       "      <th>2</th>\n",
       "      <td>0.12</td>\n",
       "      <td>99.88</td>\n",
       "    </tr>\n",
       "    <tr>\n",
       "      <th>3</th>\n",
       "      <td>100.00</td>\n",
       "      <td>0.00</td>\n",
       "    </tr>\n",
       "    <tr>\n",
       "      <th>4</th>\n",
       "      <td>1.35</td>\n",
       "      <td>98.65</td>\n",
       "    </tr>\n",
       "    <tr>\n",
       "      <th>5</th>\n",
       "      <td>0.37</td>\n",
       "      <td>99.63</td>\n",
       "    </tr>\n",
       "    <tr>\n",
       "      <th>6</th>\n",
       "      <td>100.00</td>\n",
       "      <td>0.00</td>\n",
       "    </tr>\n",
       "    <tr>\n",
       "      <th>7</th>\n",
       "      <td>0.12</td>\n",
       "      <td>99.88</td>\n",
       "    </tr>\n",
       "    <tr>\n",
       "      <th>8</th>\n",
       "      <td>80.17</td>\n",
       "      <td>19.83</td>\n",
       "    </tr>\n",
       "    <tr>\n",
       "      <th>9</th>\n",
       "      <td>100.00</td>\n",
       "      <td>0.00</td>\n",
       "    </tr>\n",
       "    <tr>\n",
       "      <th>10</th>\n",
       "      <td>0.19</td>\n",
       "      <td>99.81</td>\n",
       "    </tr>\n",
       "    <tr>\n",
       "      <th>11</th>\n",
       "      <td>100.00</td>\n",
       "      <td>0.00</td>\n",
       "    </tr>\n",
       "    <tr>\n",
       "      <th>12</th>\n",
       "      <td>68.09</td>\n",
       "      <td>31.91</td>\n",
       "    </tr>\n",
       "    <tr>\n",
       "      <th>13</th>\n",
       "      <td>0.08</td>\n",
       "      <td>99.92</td>\n",
       "    </tr>\n",
       "    <tr>\n",
       "      <th>14</th>\n",
       "      <td>100.00</td>\n",
       "      <td>0.00</td>\n",
       "    </tr>\n",
       "    <tr>\n",
       "      <th>15</th>\n",
       "      <td>100.00</td>\n",
       "      <td>0.00</td>\n",
       "    </tr>\n",
       "    <tr>\n",
       "      <th>16</th>\n",
       "      <td>0.26</td>\n",
       "      <td>99.74</td>\n",
       "    </tr>\n",
       "    <tr>\n",
       "      <th>17</th>\n",
       "      <td>0.09</td>\n",
       "      <td>99.91</td>\n",
       "    </tr>\n",
       "    <tr>\n",
       "      <th>18</th>\n",
       "      <td>0.20</td>\n",
       "      <td>99.80</td>\n",
       "    </tr>\n",
       "    <tr>\n",
       "      <th>19</th>\n",
       "      <td>100.00</td>\n",
       "      <td>0.00</td>\n",
       "    </tr>\n",
       "    <tr>\n",
       "      <th>20</th>\n",
       "      <td>0.08</td>\n",
       "      <td>99.92</td>\n",
       "    </tr>\n",
       "    <tr>\n",
       "      <th>21</th>\n",
       "      <td>0.11</td>\n",
       "      <td>99.89</td>\n",
       "    </tr>\n",
       "    <tr>\n",
       "      <th>22</th>\n",
       "      <td>100.00</td>\n",
       "      <td>0.00</td>\n",
       "    </tr>\n",
       "    <tr>\n",
       "      <th>23</th>\n",
       "      <td>99.99</td>\n",
       "      <td>0.01</td>\n",
       "    </tr>\n",
       "    <tr>\n",
       "      <th>24</th>\n",
       "      <td>90.90</td>\n",
       "      <td>9.10</td>\n",
       "    </tr>\n",
       "    <tr>\n",
       "      <th>25</th>\n",
       "      <td>0.08</td>\n",
       "      <td>99.92</td>\n",
       "    </tr>\n",
       "    <tr>\n",
       "      <th>26</th>\n",
       "      <td>0.09</td>\n",
       "      <td>99.91</td>\n",
       "    </tr>\n",
       "    <tr>\n",
       "      <th>27</th>\n",
       "      <td>100.00</td>\n",
       "      <td>0.00</td>\n",
       "    </tr>\n",
       "    <tr>\n",
       "      <th>28</th>\n",
       "      <td>99.99</td>\n",
       "      <td>0.01</td>\n",
       "    </tr>\n",
       "    <tr>\n",
       "      <th>29</th>\n",
       "      <td>100.00</td>\n",
       "      <td>0.00</td>\n",
       "    </tr>\n",
       "    <tr>\n",
       "      <th>...</th>\n",
       "      <td>...</td>\n",
       "      <td>...</td>\n",
       "    </tr>\n",
       "    <tr>\n",
       "      <th>2550</th>\n",
       "      <td>20.31</td>\n",
       "      <td>79.69</td>\n",
       "    </tr>\n",
       "    <tr>\n",
       "      <th>2551</th>\n",
       "      <td>100.00</td>\n",
       "      <td>0.00</td>\n",
       "    </tr>\n",
       "    <tr>\n",
       "      <th>2552</th>\n",
       "      <td>100.00</td>\n",
       "      <td>0.00</td>\n",
       "    </tr>\n",
       "    <tr>\n",
       "      <th>2553</th>\n",
       "      <td>100.00</td>\n",
       "      <td>0.00</td>\n",
       "    </tr>\n",
       "    <tr>\n",
       "      <th>2554</th>\n",
       "      <td>100.00</td>\n",
       "      <td>0.00</td>\n",
       "    </tr>\n",
       "    <tr>\n",
       "      <th>2555</th>\n",
       "      <td>99.78</td>\n",
       "      <td>0.22</td>\n",
       "    </tr>\n",
       "    <tr>\n",
       "      <th>2556</th>\n",
       "      <td>0.08</td>\n",
       "      <td>99.92</td>\n",
       "    </tr>\n",
       "    <tr>\n",
       "      <th>2557</th>\n",
       "      <td>0.48</td>\n",
       "      <td>99.52</td>\n",
       "    </tr>\n",
       "    <tr>\n",
       "      <th>2558</th>\n",
       "      <td>100.00</td>\n",
       "      <td>0.00</td>\n",
       "    </tr>\n",
       "    <tr>\n",
       "      <th>2559</th>\n",
       "      <td>100.00</td>\n",
       "      <td>0.00</td>\n",
       "    </tr>\n",
       "    <tr>\n",
       "      <th>2560</th>\n",
       "      <td>0.09</td>\n",
       "      <td>99.91</td>\n",
       "    </tr>\n",
       "    <tr>\n",
       "      <th>2561</th>\n",
       "      <td>0.30</td>\n",
       "      <td>99.70</td>\n",
       "    </tr>\n",
       "    <tr>\n",
       "      <th>2562</th>\n",
       "      <td>3.84</td>\n",
       "      <td>96.16</td>\n",
       "    </tr>\n",
       "    <tr>\n",
       "      <th>2563</th>\n",
       "      <td>0.16</td>\n",
       "      <td>99.84</td>\n",
       "    </tr>\n",
       "    <tr>\n",
       "      <th>2564</th>\n",
       "      <td>22.18</td>\n",
       "      <td>77.82</td>\n",
       "    </tr>\n",
       "    <tr>\n",
       "      <th>2565</th>\n",
       "      <td>41.05</td>\n",
       "      <td>58.95</td>\n",
       "    </tr>\n",
       "    <tr>\n",
       "      <th>2566</th>\n",
       "      <td>100.00</td>\n",
       "      <td>0.00</td>\n",
       "    </tr>\n",
       "    <tr>\n",
       "      <th>2567</th>\n",
       "      <td>100.00</td>\n",
       "      <td>0.00</td>\n",
       "    </tr>\n",
       "    <tr>\n",
       "      <th>2568</th>\n",
       "      <td>0.08</td>\n",
       "      <td>99.92</td>\n",
       "    </tr>\n",
       "    <tr>\n",
       "      <th>2569</th>\n",
       "      <td>100.00</td>\n",
       "      <td>0.00</td>\n",
       "    </tr>\n",
       "    <tr>\n",
       "      <th>2570</th>\n",
       "      <td>100.00</td>\n",
       "      <td>0.00</td>\n",
       "    </tr>\n",
       "    <tr>\n",
       "      <th>2571</th>\n",
       "      <td>3.95</td>\n",
       "      <td>96.05</td>\n",
       "    </tr>\n",
       "    <tr>\n",
       "      <th>2572</th>\n",
       "      <td>99.90</td>\n",
       "      <td>0.10</td>\n",
       "    </tr>\n",
       "    <tr>\n",
       "      <th>2573</th>\n",
       "      <td>0.48</td>\n",
       "      <td>99.52</td>\n",
       "    </tr>\n",
       "    <tr>\n",
       "      <th>2574</th>\n",
       "      <td>0.58</td>\n",
       "      <td>99.42</td>\n",
       "    </tr>\n",
       "    <tr>\n",
       "      <th>2575</th>\n",
       "      <td>74.20</td>\n",
       "      <td>25.80</td>\n",
       "    </tr>\n",
       "    <tr>\n",
       "      <th>2576</th>\n",
       "      <td>74.65</td>\n",
       "      <td>25.35</td>\n",
       "    </tr>\n",
       "    <tr>\n",
       "      <th>2577</th>\n",
       "      <td>100.00</td>\n",
       "      <td>0.00</td>\n",
       "    </tr>\n",
       "    <tr>\n",
       "      <th>2578</th>\n",
       "      <td>99.99</td>\n",
       "      <td>0.01</td>\n",
       "    </tr>\n",
       "    <tr>\n",
       "      <th>2579</th>\n",
       "      <td>0.12</td>\n",
       "      <td>99.88</td>\n",
       "    </tr>\n",
       "  </tbody>\n",
       "</table>\n",
       "<p>2580 rows × 2 columns</p>\n",
       "</div>"
      ],
      "text/plain": [
       "      P(0)/xi  P(1)/xi\n",
       "0        7.52    92.48\n",
       "1      100.00     0.00\n",
       "2        0.12    99.88\n",
       "3      100.00     0.00\n",
       "4        1.35    98.65\n",
       "5        0.37    99.63\n",
       "6      100.00     0.00\n",
       "7        0.12    99.88\n",
       "8       80.17    19.83\n",
       "9      100.00     0.00\n",
       "10       0.19    99.81\n",
       "11     100.00     0.00\n",
       "12      68.09    31.91\n",
       "13       0.08    99.92\n",
       "14     100.00     0.00\n",
       "15     100.00     0.00\n",
       "16       0.26    99.74\n",
       "17       0.09    99.91\n",
       "18       0.20    99.80\n",
       "19     100.00     0.00\n",
       "20       0.08    99.92\n",
       "21       0.11    99.89\n",
       "22     100.00     0.00\n",
       "23      99.99     0.01\n",
       "24      90.90     9.10\n",
       "25       0.08    99.92\n",
       "26       0.09    99.91\n",
       "27     100.00     0.00\n",
       "28      99.99     0.01\n",
       "29     100.00     0.00\n",
       "...       ...      ...\n",
       "2550    20.31    79.69\n",
       "2551   100.00     0.00\n",
       "2552   100.00     0.00\n",
       "2553   100.00     0.00\n",
       "2554   100.00     0.00\n",
       "2555    99.78     0.22\n",
       "2556     0.08    99.92\n",
       "2557     0.48    99.52\n",
       "2558   100.00     0.00\n",
       "2559   100.00     0.00\n",
       "2560     0.09    99.91\n",
       "2561     0.30    99.70\n",
       "2562     3.84    96.16\n",
       "2563     0.16    99.84\n",
       "2564    22.18    77.82\n",
       "2565    41.05    58.95\n",
       "2566   100.00     0.00\n",
       "2567   100.00     0.00\n",
       "2568     0.08    99.92\n",
       "2569   100.00     0.00\n",
       "2570   100.00     0.00\n",
       "2571     3.95    96.05\n",
       "2572    99.90     0.10\n",
       "2573     0.48    99.52\n",
       "2574     0.58    99.42\n",
       "2575    74.20    25.80\n",
       "2576    74.65    25.35\n",
       "2577   100.00     0.00\n",
       "2578    99.99     0.01\n",
       "2579     0.12    99.88\n",
       "\n",
       "[2580 rows x 2 columns]"
      ]
     },
     "execution_count": 64,
     "metadata": {},
     "output_type": "execute_result"
    }
   ],
   "source": [
    "proba"
   ]
  },
  {
   "cell_type": "code",
   "execution_count": 65,
   "metadata": {},
   "outputs": [],
   "source": [
    "# se evalua la diferencia que hay entre las probabilidades condicionales asignadas para cada registro. \n",
    "diferencia=[model.predict_proba(test_X)[i][0]-model.predict_proba(test_X)[i][1] for i in range(len(model.predict_proba(test_X)))]\n"
   ]
  },
  {
   "cell_type": "markdown",
   "metadata": {},
   "source": [
    "Se grafica diferencia para observar casos donde la diferencia se menor a un determinado umbral. Diferencias entre -0.2 y 0.2 implique el modelo no logra diferenciar bien entre categorías"
   ]
  },
  {
   "cell_type": "code",
   "execution_count": 66,
   "metadata": {},
   "outputs": [
    {
     "data": {
      "image/png": "[encoded data removed]",
      "text/plain": [
       "<Figure size 640x480 with 1 Axes>"
      ]
     },
     "metadata": {
      "needs_background": "light"
     },
     "output_type": "display_data"
    }
   ],
   "source": [
    "plt.figure(figsize=(8, 6), dpi=80)\n",
    "plt.title('Distribución de diferencia de probabilidades condicionadas Gaussian NB')\n",
    "plt.hist(diferencia,bins=50)\n",
    "plt.axvspan(-0.2,0.2, facecolor='#2ca02c', alpha=0.2)\n",
    "plt.show()"
   ]
  },
  {
   "cell_type": "markdown",
   "metadata": {},
   "source": [
    "## 4. Comparación de algorítmos\n",
    "Comparar Naive Bayes y árboles de decisión. Para hacerlo usar 5-fold crossvalidation para la exploración de la mejor solución en cada caso. En árboles de\n",
    "decisión determinar qué tamaño de árbol conviene y si conviene utilizar Gini o\n",
    "Information Gain (todo esto con el conjunto de desarrollo y utilizando grid search).\n",
    "Utilizar ROC AUC como métrica."
   ]
  },
  {
   "cell_type": "code",
   "execution_count": 79,
   "metadata": {},
   "outputs": [
    {
     "name": "stdout",
     "output_type": "stream",
     "text": [
      "scoring ROC train:    79.44 %\n"
     ]
    }
   ],
   "source": [
    "# se instancia el modelo NB \n",
    "model = GaussianNB()\n",
    "model.fit(X,y)\n",
    "\n",
    "# en train\n",
    "scores = cross_val_score(model, X, y, cv=5, scoring='roc_auc')\n",
    "print('scoring ROC train:   ',round(100*scores.mean(),2),'%')\n",
    "predict_test=model.predict(test_X)"
   ]
  },
  {
   "cell_type": "code",
   "execution_count": 80,
   "metadata": {},
   "outputs": [
    {
     "name": "stdout",
     "output_type": "stream",
     "text": [
      "scoring ROC test :    68.68 %\n",
      "\n",
      "Reporte de metricas:\n",
      "              precision    recall  f1-score   support\n",
      "\n",
      "           0       0.84      0.54      0.66      1614\n",
      "           1       0.52      0.83      0.64       966\n",
      "\n",
      "   micro avg       0.65      0.65      0.65      2580\n",
      "   macro avg       0.68      0.69      0.65      2580\n",
      "weighted avg       0.72      0.65      0.65      2580\n",
      "\n",
      "\n",
      "accuracy en test :   65.0 %\n"
     ]
    }
   ],
   "source": [
    "# estimamos con los parámetros optimos\n",
    "print('scoring ROC test :   ',round(roc_auc_score(test_y, predict_test)*100,2),'%')\n",
    "print()\n",
    "print('Reporte de metricas:')\n",
    "print (classification_report(test_y, predict_test))\n",
    "print()\n",
    "print('accuracy en test :  ',round(accuracy_score(test_y, predict_test), 2)*100,'%')"
   ]
  },
  {
   "cell_type": "code",
   "execution_count": 81,
   "metadata": {},
   "outputs": [
    {
     "data": {
      "image/png": "[encoded data removed]",
      "text/plain": [
       "<Figure size 432x288 with 1 Axes>"
      ]
     },
     "metadata": {
      "needs_background": "light"
     },
     "output_type": "display_data"
    }
   ],
   "source": [
    "cm=confusion_matrix(test_y, predict_test)\n",
    "plt.clf()\n",
    "plt.imshow(cm, interpolation='nearest', cmap=plt.cm.Wistia)\n",
    "classNames = ['Positive','Negative']\n",
    "plt.title('Confusion Matrix - Test Data')\n",
    "plt.ylabel('Predicted label')\n",
    "plt.xlabel('True label')\n",
    "tick_marks = np.arange(len(classNames))\n",
    "plt.xticks(tick_marks, classNames, rotation=45)\n",
    "plt.yticks(tick_marks, classNames)\n",
    "s = [['TP','FP'], ['FN', 'TN']]\n",
    "for i in range(2):\n",
    "    for j in range(2):\n",
    "        plt.text(j,i, str(s[i][j])+\" = \"+str(cm[i][j]))\n",
    "plt.show()"
   ]
  },
  {
   "cell_type": "code",
   "execution_count": 82,
   "metadata": {},
   "outputs": [
    {
     "data": {
      "image/png": "[encoded data removed]",
      "text/plain": [
       "<Figure size 432x288 with 1 Axes>"
      ]
     },
     "metadata": {
      "needs_background": "light"
     },
     "output_type": "display_data"
    }
   ],
   "source": [
    "# graficamos curva ROC\n",
    "fpr,tpr,_ = roc_curve(test_y, predict_test)\n",
    "df = pd.DataFrame(dict(fpr=fpr, tpr=tpr))\n",
    "\n",
    "plt.axis([0, 1.01, 0, 1.01])\n",
    "plt.xlabel('1 - Specificty')\n",
    "plt.ylabel('TPR / Sensitivity')\n",
    "plt.title('Curva ROC en test - BN')\n",
    "plt.plot(df['fpr'],df['tpr'])\n",
    "plt.plot(np.arange(0,1, step =0.01), np.arange(0,1, step =0.01))\n",
    "plt.show() "
   ]
  },
  {
   "cell_type": "markdown",
   "metadata": {},
   "source": [
    "Optimizamos el algoritmo de Árbol de decisión"
   ]
  },
  {
   "cell_type": "code",
   "execution_count": 83,
   "metadata": {},
   "outputs": [],
   "source": [
    "# se optimiza el modelo de AD - se definen los parámetros a testear\n",
    "profundidad = list(range(1, 41))\n",
    "criterio = [\"gini\",\"entropy\"]\n",
    "split=['best','random']"
   ]
  },
  {
   "cell_type": "code",
   "execution_count": 84,
   "metadata": {},
   "outputs": [
    {
     "name": "stdout",
     "output_type": "stream",
     "text": [
      "DecisionTreeClassifier(class_weight=None, criterion='gini', max_depth=6,\n",
      "            max_features=None, max_leaf_nodes=None,\n",
      "            min_impurity_decrease=0.0, min_impurity_split=None,\n",
      "            min_samples_leaf=1, min_samples_split=2,\n",
      "            min_weight_fraction_leaf=0.0, presort=False, random_state=None,\n",
      "            splitter='best')\n",
      "\n",
      "mejor estimación:    86.23 %\n"
     ]
    }
   ],
   "source": [
    "#instanciamos el modelo\n",
    "tree = DecisionTreeClassifier(max_depth = 3, criterion = 'gini',splitter='best')\n",
    "        \n",
    "param_grid = dict(max_depth=profundidad, criterion=criterio,splitter=split)\n",
    "grid = GridSearchCV(tree, param_grid, cv=5, scoring='roc_auc')\n",
    "grid.fit(X, y)\n",
    "\n",
    "print (grid.best_estimator_)\n",
    "print()\n",
    "print('mejor estimación:   ',round(grid.best_score_*100,2),'%')"
   ]
  },
  {
   "cell_type": "code",
   "execution_count": 85,
   "metadata": {
    "scrolled": true
   },
   "outputs": [
    {
     "name": "stdout",
     "output_type": "stream",
     "text": [
      "scoring ROC test :    78.18 %\n",
      "\n",
      "Reporte de metricas:\n",
      "              precision    recall  f1-score   support\n",
      "\n",
      "           0       0.82      0.89      0.85      1614\n",
      "           1       0.78      0.68      0.73       966\n",
      "\n",
      "   micro avg       0.81      0.81      0.81      2580\n",
      "   macro avg       0.80      0.78      0.79      2580\n",
      "weighted avg       0.81      0.81      0.80      2580\n",
      "\n",
      "\n",
      "accuracy en test :   81.0 %\n"
     ]
    }
   ],
   "source": [
    "# estimamos con los parámetros optimos\n",
    "predict_test=grid.predict(test_X)\n",
    "print('scoring ROC test :   ',round(roc_auc_score(test_y, predict_test)*100,2),'%')\n",
    "print()\n",
    "print('Reporte de metricas:')\n",
    "print (classification_report(test_y, predict_test))\n",
    "print()\n",
    "print('accuracy en test :  ',round(accuracy_score(test_y, predict_test), 2)*100,'%')"
   ]
  },
  {
   "cell_type": "code",
   "execution_count": 86,
   "metadata": {},
   "outputs": [
    {
     "data": {
      "image/png": "[encoded data removed]",
      "text/plain": [
       "<Figure size 432x288 with 1 Axes>"
      ]
     },
     "metadata": {
      "needs_background": "light"
     },
     "output_type": "display_data"
    }
   ],
   "source": [
    "cm=confusion_matrix(test_y, predict_test)\n",
    "plt.clf()\n",
    "plt.imshow(cm, interpolation='nearest', cmap=plt.cm.Wistia)\n",
    "classNames = ['Positive','Negative']\n",
    "plt.title('Confusion Matrix - Test Data')\n",
    "plt.ylabel('Predicted label')\n",
    "plt.xlabel('True label')\n",
    "tick_marks = np.arange(len(classNames))\n",
    "plt.xticks(tick_marks, classNames, rotation=45)\n",
    "plt.yticks(tick_marks, classNames)\n",
    "s = [['TP','FP'], ['FN', 'TN']]\n",
    "for i in range(2):\n",
    "    for j in range(2):\n",
    "        plt.text(j,i, str(s[i][j])+\" = \"+str(cm[i][j]))\n",
    "plt.show()"
   ]
  },
  {
   "cell_type": "code",
   "execution_count": 90,
   "metadata": {},
   "outputs": [
    {
     "data": {
      "image/png": "[encoded data removed]",
      "text/plain": [
       "<Figure size 432x288 with 1 Axes>"
      ]
     },
     "metadata": {
      "needs_background": "light"
     },
     "output_type": "display_data"
    }
   ],
   "source": [
    "# graficamos curva ROC\n",
    "fpr1,tpr1,_ = roc_curve(test_y, predict_test)\n",
    "df2 = pd.DataFrame(dict(fpr=fpr1, tpr=tpr1))\n",
    "\n",
    "plt.axis([0, 1.01, 0, 1.01])\n",
    "plt.xlabel('FPR - Specificty')\n",
    "plt.ylabel('TPR / Sensitivity')\n",
    "plt.title('Curva ROC en test - Modelo de Arbol de decisión optimizado')\n",
    "plt.plot(df2['fpr'],df2['tpr'])\n",
    "plt.plot(np.arange(0,1, step =0.01), np.arange(0,1, step =0.01))\n",
    "plt.show() "
   ]
  },
  {
   "cell_type": "code",
   "execution_count": 96,
   "metadata": {},
   "outputs": [
    {
     "data": {
      "image/png": "[encoded data removed]",
      "text/plain": [
       "<Figure size 432x288 with 1 Axes>"
      ]
     },
     "metadata": {
      "needs_background": "light"
     },
     "output_type": "display_data"
    }
   ],
   "source": [
    "# graficandolos conjuntamente\n",
    "plt.axis([0, 1.01, 0, 1.01])\n",
    "plt.xlabel('FPR - Specificty')\n",
    "plt.ylabel('TPR / Sensitivity')\n",
    "plt.title('Curva ROC en test')\n",
    "plt.plot(df2['fpr'],df2['tpr'])\n",
    "plt.plot(df['fpr'],df['tpr'])\n",
    "plt.plot(np.arange(0,1, step =0.01), np.arange(0,1, step =0.01))\n",
    "plt.show() "
   ]
  },
  {
   "cell_type": "code",
   "execution_count": null,
   "metadata": {},
   "outputs": [],
   "source": []
  }
 ],
 "metadata": {
  "kernelspec": {
   "display_name": "Python 3",
   "language": "python",
   "name": "python3"
  },
  "language_info": {
   "codemirror_mode": {
    "name": "ipython",
    "version": 3
   },
   "file_extension": ".py",
   "mimetype": "text/x-python",
   "name": "python",
   "nbconvert_exporter": "python",
   "pygments_lexer": "ipython3",
   "version": "3.7.1"
  }
 },
 "nbformat": 4,
 "nbformat_minor": 2
}
