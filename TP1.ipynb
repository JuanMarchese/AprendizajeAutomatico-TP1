{
 "cells": [
  {
   "cell_type": "markdown",
   "metadata": {},
   "source": [
    "# TP1"
   ]
  },
  {
   "cell_type": "code",
   "execution_count": 1,
   "metadata": {},
   "outputs": [],
   "source": [
    "import numpy as np\n",
    "import pandas as pd\n",
    "import pydotplus\n",
    "import random\n",
    "import matplotlib.pyplot as plt\n",
    "import seaborn as sns\n",
    "\n",
    "from IPython.display import Image, display\n",
    "from sklearn import preprocessing, metrics\n",
    "from sklearn.externals.six import StringIO  \n",
    "from sklearn.tree import DecisionTreeClassifier, export_graphviz \n",
    "from sklearn.metrics import accuracy_score, roc_auc_score,roc_curve,confusion_matrix, classification_report\n",
    "from sklearn.naive_bayes import GaussianNB\n",
    "from sklearn.model_selection import cross_val_score, train_test_split, GridSearchCV, KFold\n",
    "\n",
    "RANDOM_SEED = 42"
   ]
  },
  {
   "cell_type": "markdown",
   "metadata": {},
   "source": [
    "## Lectura del dataset\n",
    "\n",
    "Se reemplaza el atributo \"Data of birth\" por \"Age\", encodeamos \"Social Class\". También encodeamos \"Presence of Children\" para que tome 2 valores: 0 si no hay hijos, 1 en caso contrario"
   ]
  },
  {
   "cell_type": "code",
   "execution_count": 2,
   "metadata": {},
   "outputs": [],
   "source": [
    "def readCsv():\n",
    "    df = pd.read_csv(\"data.csv\")\n",
    "    \n",
    "    #Agregamos atributo edad\n",
    "    df['Date of birth'] = pd.to_datetime('today').year - pd.to_datetime(df['Date of birth'],format='%Y-%m-%d').dt.year\n",
    "    df = df.rename(columns={'Date of birth': 'Age' })\n",
    "    \n",
    "    #Encode social class\n",
    "    socialClassEncoder = preprocessing.LabelEncoder()\n",
    "    socialClassEncoder.fit([\"E \", \"D \", \"C2\", \"C1\", \"AB\"])\n",
    "    \n",
    "    df['Social Class'] = socialClassEncoder.transform(df['Social Class'])\n",
    "    \n",
    "    #Agrupamos en 2 clases \"Presence of Children\"\n",
    "    df['Presence of Children'] = df['Presence of Children'].apply(lambda x: 1 if x > 1 else 0)\n",
    "    \n",
    "    return df\n",
    "\n",
    "df = readCsv()"
   ]
  },
  {
   "cell_type": "markdown",
   "metadata": {},
   "source": [
    "## 1. Partición de datos \n",
    "\n",
    "Particionamos el conjunto entre datos de entramiento y de test. Los de validación se van a ir generando en cada uno de los k-folds. "
   ]
  },
  {
   "cell_type": "code",
   "execution_count": 3,
   "metadata": {
    "scrolled": false
   },
   "outputs": [],
   "source": [
    "def partitionate(df):\n",
    "    #Seteamos Presence of Children como target\n",
    "    targetColumn = \"Presence of Children\"\n",
    "    \n",
    "    #El resto de las columnas las vamos a usar como feature para clasificar\n",
    "    features = list(df.columns)\n",
    "    features.remove(targetColumn)\n",
    "    \n",
    "    features.remove(\"Age\")\n",
    "\n",
    "    X, test_X, y, test_y = train_test_split(df[features],\n",
    "                                            df[targetColumn],\n",
    "                                            train_size=0.8,\n",
    "                                            test_size=0.2,\n",
    "                                            random_state=RANDOM_SEED)\n",
    "    return X, test_X, y, test_y, features\n",
    "\n",
    "X, test_X, y, test_y, features = partitionate(df)"
   ]
  },
  {
   "cell_type": "markdown",
   "metadata": {},
   "source": [
    "## 2. Árboles de decisión \n",
    "\n",
    "### 2.1\n",
    "Entrenar un árbol de decisión con altura 3 y el resto de los hiperparámetros con su valor en default. Estimar la performance del modelo utilizando 5-fold cross validation utilizando el Accuracy y ROC AUC"
   ]
  },
  {
   "cell_type": "code",
   "execution_count": 4,
   "metadata": {},
   "outputs": [
    {
     "data": {
      "text/html": [
       "<div>\n",
       "<style scoped>\n",
       "    .dataframe tbody tr th:only-of-type {\n",
       "        vertical-align: middle;\n",
       "    }\n",
       "\n",
       "    .dataframe tbody tr th {\n",
       "        vertical-align: top;\n",
       "    }\n",
       "\n",
       "    .dataframe thead th {\n",
       "        text-align: right;\n",
       "    }\n",
       "</style>\n",
       "<table border=\"1\" class=\"dataframe\">\n",
       "  <thead>\n",
       "    <tr style=\"text-align: right;\">\n",
       "      <th></th>\n",
       "      <th>It 1</th>\n",
       "      <th>It 2</th>\n",
       "      <th>It 3</th>\n",
       "      <th>It 4</th>\n",
       "      <th>It 5</th>\n",
       "      <th>Promedio</th>\n",
       "      <th>Desvio</th>\n",
       "    </tr>\n",
       "  </thead>\n",
       "  <tbody>\n",
       "    <tr>\n",
       "      <th>Accuracy: Conjunto de validación</th>\n",
       "      <td>0.748</td>\n",
       "      <td>0.710</td>\n",
       "      <td>0.760</td>\n",
       "      <td>0.749</td>\n",
       "      <td>0.736</td>\n",
       "      <td>0.741</td>\n",
       "      <td>0.017</td>\n",
       "    </tr>\n",
       "    <tr>\n",
       "      <th>Accuracy: Conjunto de entrenamiento</th>\n",
       "      <td>0.755</td>\n",
       "      <td>0.733</td>\n",
       "      <td>0.752</td>\n",
       "      <td>0.748</td>\n",
       "      <td>0.753</td>\n",
       "      <td>0.748</td>\n",
       "      <td>0.008</td>\n",
       "    </tr>\n",
       "    <tr>\n",
       "      <th>ROC AUC: Conjunto de validación</th>\n",
       "      <td>0.722</td>\n",
       "      <td>0.719</td>\n",
       "      <td>0.732</td>\n",
       "      <td>0.723</td>\n",
       "      <td>0.718</td>\n",
       "      <td>0.723</td>\n",
       "      <td>0.005</td>\n",
       "    </tr>\n",
       "    <tr>\n",
       "      <th>ROC AUC: Conjunto de entrenamiento</th>\n",
       "      <td>0.728</td>\n",
       "      <td>0.740</td>\n",
       "      <td>0.726</td>\n",
       "      <td>0.724</td>\n",
       "      <td>0.732</td>\n",
       "      <td>0.730</td>\n",
       "      <td>0.006</td>\n",
       "    </tr>\n",
       "  </tbody>\n",
       "</table>\n",
       "</div>"
      ],
      "text/plain": [
       "                                      It 1   It 2   It 3   It 4   It 5  \\\n",
       "Accuracy: Conjunto de validación     0.748  0.710  0.760  0.749  0.736   \n",
       "Accuracy: Conjunto de entrenamiento  0.755  0.733  0.752  0.748  0.753   \n",
       "ROC AUC: Conjunto de validación      0.722  0.719  0.732  0.723  0.718   \n",
       "ROC AUC: Conjunto de entrenamiento   0.728  0.740  0.726  0.724  0.732   \n",
       "\n",
       "                                     Promedio  Desvio  \n",
       "Accuracy: Conjunto de validación        0.741   0.017  \n",
       "Accuracy: Conjunto de entrenamiento     0.748   0.008  \n",
       "ROC AUC: Conjunto de validación         0.723   0.005  \n",
       "ROC AUC: Conjunto de entrenamiento      0.730   0.006  "
      ]
     },
     "metadata": {},
     "output_type": "display_data"
    }
   ],
   "source": [
    "def kfold(X, y, max_depth = 3, criterion = \"gini\", round_decimals = 3):\n",
    "    kf = KFold(n_splits = 5)\n",
    "    \n",
    "    accuracyValidation = []\n",
    "    accuracyTrain = []\n",
    "    rocAucValidation = []\n",
    "    rocAucTrain = []\n",
    "    \n",
    "    for train_index, validation_index in kf.split(X):\n",
    "        #Separamos los folds\n",
    "        train_X, validation_X = X.iloc[train_index, :], X.iloc[validation_index, :]\n",
    "        train_y, validation_y = y.iloc[train_index], y.iloc[validation_index]\n",
    "    \n",
    "        #Entrenamos el árbol\n",
    "        dt = DecisionTreeClassifier(max_depth = max_depth, criterion = criterion)\n",
    "        dt.fit(train_X, train_y)\n",
    "        \n",
    "        #Guardamos los resultados\n",
    "        accuracyValidation.append(np.round(accuracy_score(validation_y, dt.predict(validation_X)), round_decimals))\n",
    "        accuracyTrain.append(np.round(accuracy_score(train_y, dt.predict(train_X)), round_decimals))\n",
    "        \n",
    "        rocAucValidation.append(np.round(roc_auc_score(validation_y, dt.predict(validation_X)), round_decimals))\n",
    "        rocAucTrain.append(np.round(roc_auc_score(train_y, dt.predict(train_X)), round_decimals))\n",
    "                \n",
    "    return accuracyValidation, accuracyTrain, rocAucValidation, rocAucTrain\n",
    "\n",
    "def imprimir_tabla(nombres_columnas,valores_por_columna,nombres_filas):\n",
    "    diccionario = {}\n",
    "    \n",
    "    for i in range(0,len(nombres_columnas)):\n",
    "        diccionario[nombres_columnas[i]] = valores_por_columna[i]\n",
    "\n",
    "    dataFrame = pd.DataFrame(diccionario)\n",
    "    dataFrame.index = nombres_filas\n",
    "    \n",
    "    display(dataFrame)\n",
    "   \n",
    "#2.1\n",
    "accuracyValidation, accuracyTrain, rocAucValidation, rocAucTrain = kfold(X, y)\n",
    "\n",
    "columnas = ['It 1','It 2','It 3','It 4','It 5','Promedio','Desvio']\n",
    "filas = ['Accuracy: Conjunto de validación','Accuracy: Conjunto de entrenamiento','ROC AUC: Conjunto de validación','ROC AUC: Conjunto de entrenamiento']\n",
    "valores_por_columnas = [[],[],[],[],[],[],[]]\n",
    "\n",
    "for valores in [accuracyValidation, accuracyTrain, rocAucValidation, rocAucTrain]:\n",
    "    for i in range(0,5):\n",
    "        valores_por_columnas[i].append(valores[i])\n",
    "    valores_por_columnas[5].append(np.round(np.mean(valores), 3))\n",
    "    valores_por_columnas[6].append(np.round(np.std(valores), 3))\n",
    "\n",
    "imprimir_tabla(columnas,valores_por_columnas,filas)"
   ]
  },
  {
   "cell_type": "markdown",
   "metadata": {},
   "source": [
    "### 2.2 \n",
    "Entrenar árboles de decisión con las siguientes combinaciones. En todos los casos probar e informar Accuracy y ROC AUC para training y para validación con Gini y con Information Gain haciendo cross validation:<br>\n",
    "1. Altura máxima 3<br>\n",
    "2. Altura máxima 6<br>\n",
    "3. Sin límite de altura máxima<br>"
   ]
  },
  {
   "cell_type": "code",
   "execution_count": 5,
   "metadata": {
    "scrolled": true
   },
   "outputs": [
    {
     "data": {
      "text/html": [
       "<div>\n",
       "<style scoped>\n",
       "    .dataframe tbody tr th:only-of-type {\n",
       "        vertical-align: middle;\n",
       "    }\n",
       "\n",
       "    .dataframe tbody tr th {\n",
       "        vertical-align: top;\n",
       "    }\n",
       "\n",
       "    .dataframe thead th {\n",
       "        text-align: right;\n",
       "    }\n",
       "</style>\n",
       "<table border=\"1\" class=\"dataframe\">\n",
       "  <thead>\n",
       "    <tr style=\"text-align: right;\">\n",
       "      <th></th>\n",
       "      <th>Acc Val</th>\n",
       "      <th>Acc Train</th>\n",
       "      <th>ROC AUC Val</th>\n",
       "      <th>ROC AUC Train</th>\n",
       "    </tr>\n",
       "  </thead>\n",
       "  <tbody>\n",
       "    <tr>\n",
       "      <th>Altura 3 Gini</th>\n",
       "      <td>0.7406</td>\n",
       "      <td>0.7482</td>\n",
       "      <td>0.7228</td>\n",
       "      <td>0.7300</td>\n",
       "    </tr>\n",
       "    <tr>\n",
       "      <th>Altura 3 Information Gain</th>\n",
       "      <td>0.7458</td>\n",
       "      <td>0.7492</td>\n",
       "      <td>0.7238</td>\n",
       "      <td>0.7280</td>\n",
       "    </tr>\n",
       "    <tr>\n",
       "      <th>Altura 6 Gini</th>\n",
       "      <td>0.7718</td>\n",
       "      <td>0.7954</td>\n",
       "      <td>0.7334</td>\n",
       "      <td>0.7596</td>\n",
       "    </tr>\n",
       "    <tr>\n",
       "      <th>Altura 6 Information Gain</th>\n",
       "      <td>0.7720</td>\n",
       "      <td>0.7896</td>\n",
       "      <td>0.7380</td>\n",
       "      <td>0.7572</td>\n",
       "    </tr>\n",
       "    <tr>\n",
       "      <th>Sin limite Gini</th>\n",
       "      <td>0.7424</td>\n",
       "      <td>0.9990</td>\n",
       "      <td>0.7274</td>\n",
       "      <td>0.9990</td>\n",
       "    </tr>\n",
       "    <tr>\n",
       "      <th>Sin limite Information Gain</th>\n",
       "      <td>0.7504</td>\n",
       "      <td>0.9990</td>\n",
       "      <td>0.7350</td>\n",
       "      <td>0.9990</td>\n",
       "    </tr>\n",
       "  </tbody>\n",
       "</table>\n",
       "</div>"
      ],
      "text/plain": [
       "                             Acc Val  Acc Train  ROC AUC Val  ROC AUC Train\n",
       "Altura 3 Gini                 0.7406     0.7482       0.7228         0.7300\n",
       "Altura 3 Information Gain     0.7458     0.7492       0.7238         0.7280\n",
       "Altura 6 Gini                 0.7718     0.7954       0.7334         0.7596\n",
       "Altura 6 Information Gain     0.7720     0.7896       0.7380         0.7572\n",
       "Sin limite Gini               0.7424     0.9990       0.7274         0.9990\n",
       "Sin limite Information Gain   0.7504     0.9990       0.7350         0.9990"
      ]
     },
     "metadata": {},
     "output_type": "display_data"
    }
   ],
   "source": [
    "alturas = [3,6,None]\n",
    "alt_names = ['Altura 3','Altura 6','Sin limite']\n",
    "criterio = [\"gini\",\"entropy\"]\n",
    "crit_names = ['Gini','Information Gain']\n",
    "\n",
    "columnas = ['Acc Val','Acc Train','ROC AUC Val','ROC AUC Train']\n",
    "valores_por_columnas = [[],[],[],[]]\n",
    "filas = []\n",
    "\n",
    "for i in range(0,len(alturas)):\n",
    "    for j in range(0,len(criterio)):\n",
    "        result = kfold(X, y, max_depth = alturas[i],criterion = criterio[j])\n",
    "        for k in range(0,4):\n",
    "            valores_por_columnas[k].append(np.mean(result[k]))\n",
    "        \n",
    "        filas.append(alt_names[i] + \" \" + crit_names[j])\n",
    "\n",
    "imprimir_tabla(columnas,valores_por_columnas,filas)\n"
   ]
  },
  {
   "cell_type": "markdown",
   "metadata": {},
   "source": [
    "De todos los árboles, el que mejor resultados dio es uno de altura 6 con Gini. "
   ]
  },
  {
   "cell_type": "code",
   "execution_count": 6,
   "metadata": {
    "scrolled": true
   },
   "outputs": [
    {
     "name": "stdout",
     "output_type": "stream",
     "text": [
      "Accuracy:  0.7782945736434108\n"
     ]
    }
   ],
   "source": [
    "dt = DecisionTreeClassifier(max_depth=6, min_samples_split=3)\n",
    "dt.fit(X, y)\n",
    "\n",
    "print(\"Accuracy: \", accuracy_score(test_y, dt.predict(test_X)))"
   ]
  },
  {
   "cell_type": "markdown",
   "metadata": {},
   "source": [
    "### 2.3\n",
    "Aplicamos faltantes a la featura que está en la raiz del árbol, \"Infantil@Late Fringe\" y reemplazamos por la moda. \n"
   ]
  },
  {
   "cell_type": "code",
   "execution_count": 7,
   "metadata": {
    "scrolled": true
   },
   "outputs": [
    {
     "data": {
      "text/html": [
       "<div>\n",
       "<style scoped>\n",
       "    .dataframe tbody tr th:only-of-type {\n",
       "        vertical-align: middle;\n",
       "    }\n",
       "\n",
       "    .dataframe tbody tr th {\n",
       "        vertical-align: top;\n",
       "    }\n",
       "\n",
       "    .dataframe thead th {\n",
       "        text-align: right;\n",
       "    }\n",
       "</style>\n",
       "<table border=\"1\" class=\"dataframe\">\n",
       "  <thead>\n",
       "    <tr style=\"text-align: right;\">\n",
       "      <th></th>\n",
       "      <th>0%</th>\n",
       "      <th>5%</th>\n",
       "      <th>10%</th>\n",
       "      <th>15%</th>\n",
       "      <th>20%</th>\n",
       "      <th>25%</th>\n",
       "      <th>30%</th>\n",
       "      <th>35%</th>\n",
       "      <th>40%</th>\n",
       "      <th>45%</th>\n",
       "      <th>50%</th>\n",
       "      <th>55%</th>\n",
       "      <th>60%</th>\n",
       "      <th>65%</th>\n",
       "      <th>70%</th>\n",
       "      <th>75%</th>\n",
       "      <th>80%</th>\n",
       "    </tr>\n",
       "  </thead>\n",
       "  <tbody>\n",
       "    <tr>\n",
       "      <th>Moda</th>\n",
       "      <td>0.779</td>\n",
       "      <td>0.782</td>\n",
       "      <td>0.780</td>\n",
       "      <td>0.782</td>\n",
       "      <td>0.779</td>\n",
       "      <td>0.777</td>\n",
       "      <td>0.776</td>\n",
       "      <td>0.776</td>\n",
       "      <td>0.779</td>\n",
       "      <td>0.777</td>\n",
       "      <td>0.775</td>\n",
       "      <td>0.781</td>\n",
       "      <td>0.778</td>\n",
       "      <td>0.778</td>\n",
       "      <td>0.779</td>\n",
       "      <td>0.779</td>\n",
       "      <td>0.778</td>\n",
       "    </tr>\n",
       "    <tr>\n",
       "      <th>Moda por clase</th>\n",
       "      <td>0.778</td>\n",
       "      <td>0.777</td>\n",
       "      <td>0.779</td>\n",
       "      <td>0.777</td>\n",
       "      <td>0.776</td>\n",
       "      <td>0.777</td>\n",
       "      <td>0.778</td>\n",
       "      <td>0.779</td>\n",
       "      <td>0.780</td>\n",
       "      <td>0.778</td>\n",
       "      <td>0.778</td>\n",
       "      <td>0.776</td>\n",
       "      <td>0.778</td>\n",
       "      <td>0.779</td>\n",
       "      <td>0.776</td>\n",
       "      <td>0.777</td>\n",
       "      <td>0.778</td>\n",
       "    </tr>\n",
       "  </tbody>\n",
       "</table>\n",
       "</div>"
      ],
      "text/plain": [
       "                   0%     5%    10%    15%    20%    25%    30%    35%    40%  \\\n",
       "Moda            0.779  0.782  0.780  0.782  0.779  0.777  0.776  0.776  0.779   \n",
       "Moda por clase  0.778  0.777  0.779  0.777  0.776  0.777  0.778  0.779  0.780   \n",
       "\n",
       "                  45%    50%    55%    60%    65%    70%    75%    80%  \n",
       "Moda            0.777  0.775  0.781  0.778  0.778  0.779  0.779  0.778  \n",
       "Moda por clase  0.778  0.778  0.776  0.778  0.779  0.776  0.777  0.778  "
      ]
     },
     "metadata": {},
     "output_type": "display_data"
    }
   ],
   "source": [
    "def ind_faltantes(df, percentage, missingColumn, useClass = False, target = \"Presence of Children\"):\n",
    "    #Llenamos una columna con NaN\n",
    "    p =  percentage / 100.0\n",
    "    selection = np.random.choice(a=[True, False], size=df[missingColumn].shape, p=[p, 1-p])\n",
    "    df[missingColumn] = df[missingColumn].mask(selection)\n",
    "    \n",
    "    #Calculamos la moda y la moda por clase\n",
    "    mode = df[missingColumn].mode()[0]\n",
    "    classes = df[target].unique()\n",
    "    classMode = []\n",
    "    for i in range(len(classes)):\n",
    "        classMode.append(df[df[target] == classes[i]][missingColumn].mode()[0])\n",
    "    \n",
    "    #Llenamos los missing por la moda\n",
    "    for idx, row in df.iterrows():\n",
    "        if np.isnan(row[missingColumn]):\n",
    "            if useClass:\n",
    "                df.at[idx, missingColumn] = classMode[int(row[target])]\n",
    "            else:\n",
    "                df.at[idx, missingColumn] = mode\n",
    "                \n",
    "    return df    \n",
    "\n",
    "def test_faltantes(X, y, missingColumn, useClass, target):\n",
    "    results = []\n",
    "    \n",
    "    #Volvemos a generar el dataset para que sea más facil calcular la moda\n",
    "    trainDf = X.copy()\n",
    "    trainDf[target] = y    \n",
    "    \n",
    "    #Iteramos para todos los faltantes\n",
    "    for i in np.arange(0, 85, 5):\n",
    "        missingDf = trainDf.copy()\n",
    "        missingDf = ind_faltantes(missingDf, i, missingColumn, useClass)    \n",
    "        \n",
    "        #print(missingDf)\n",
    "        \n",
    "        #Separamos en features y target\n",
    "        y = missingDf[target]\n",
    "        features = list(missingDf.columns)\n",
    "        features.remove(target)\n",
    "        \n",
    "        X = missingDf[features]\n",
    "        \n",
    "        dt = DecisionTreeClassifier(max_depth = 6, criterion = \"gini\")\n",
    "        dt.fit(X, y)\n",
    "            \n",
    "        #Se van guardando los resultados\n",
    "        accuracy = np.round(accuracy_score(test_y, dt.predict(test_X)), 3)\n",
    "        results.append(accuracy)\n",
    "        \n",
    "    return results\n",
    "\n",
    "np.random.seed(RANDOM_SEED)\n",
    "\n",
    "columnas = ['0%','5%','10%','15%','20%','25%','30%','35%','40%','45%','50%','55%','60%','65%','70%','75%','80%']\n",
    "filas = ['Moda','Moda por clase']\n",
    "valores_por_columnas = []\n",
    "\n",
    "resultsModa = test_faltantes(X, y, \"Infantil@Late Fringe\", False, \"Presence of Children\")\n",
    "resultsModaPorClase = test_faltantes(X, y, \"Infantil@Late Fringe\", True, \"Presence of Children\")\n",
    "            \n",
    "for i in range(len(resultsModa)):\n",
    "    valores_por_columnas.append([resultsModa[i], resultsModaPorClase[i]])\n",
    "\n",
    "imprimir_tabla(columnas,valores_por_columnas,filas)"
   ]
  },
  {
   "cell_type": "markdown",
   "metadata": {},
   "source": [
    "### 2.4 \n",
    "Aplicamos ruido a la feature que Infantil@Late Fringe. No se observan grandes cambios en la accuracy, se puede deber a que empieza a usar otra feature para clasificar."
   ]
  },
  {
   "cell_type": "code",
   "execution_count": 8,
   "metadata": {},
   "outputs": [
    {
     "data": {
      "text/html": [
       "<div>\n",
       "<style scoped>\n",
       "    .dataframe tbody tr th:only-of-type {\n",
       "        vertical-align: middle;\n",
       "    }\n",
       "\n",
       "    .dataframe tbody tr th {\n",
       "        vertical-align: top;\n",
       "    }\n",
       "\n",
       "    .dataframe thead th {\n",
       "        text-align: right;\n",
       "    }\n",
       "</style>\n",
       "<table border=\"1\" class=\"dataframe\">\n",
       "  <thead>\n",
       "    <tr style=\"text-align: right;\">\n",
       "      <th></th>\n",
       "      <th>0%</th>\n",
       "      <th>5%</th>\n",
       "      <th>10%</th>\n",
       "      <th>15%</th>\n",
       "      <th>20%</th>\n",
       "      <th>25%</th>\n",
       "      <th>30%</th>\n",
       "      <th>35%</th>\n",
       "    </tr>\n",
       "  </thead>\n",
       "  <tbody>\n",
       "    <tr>\n",
       "      <th>Accuracy</th>\n",
       "      <td>0.778</td>\n",
       "      <td>0.777</td>\n",
       "      <td>0.779</td>\n",
       "      <td>0.778</td>\n",
       "      <td>0.778</td>\n",
       "      <td>0.781</td>\n",
       "      <td>0.779</td>\n",
       "      <td>0.777</td>\n",
       "    </tr>\n",
       "  </tbody>\n",
       "</table>\n",
       "</div>"
      ],
      "text/plain": [
       "             0%     5%    10%    15%    20%    25%    30%    35%\n",
       "Accuracy  0.778  0.777  0.779  0.778  0.778  0.781  0.779  0.777"
      ]
     },
     "metadata": {},
     "output_type": "display_data"
    }
   ],
   "source": [
    "def ind_ruido(df, percentage, noiseColumn = \"Infantil@Late Fringe\", maxValue = 4000.0):\n",
    "    p = percentage / 100\n",
    "    selection = np.random.choice(a=[1.0, 0.0], size=df[noiseColumn].shape, p=[p, 1-p])\n",
    "    values = maxValue - np.random.random_sample(df[noiseColumn].shape)*maxValue\n",
    "    df[noiseColumn] = df[noiseColumn] + (values - df[noiseColumn]) * selection\n",
    "    \n",
    "    return df    \n",
    "\n",
    "def test_ruido(X, y, noiseColumn, target, maxValue):\n",
    "    results = []\n",
    "    trainDf = X.copy()\n",
    "    trainDf[target] = y    \n",
    "    \n",
    "    #Iteramos para todos los faltantes\n",
    "    for i in np.arange(0, 40, 5):\n",
    "        noiseDf = trainDf.copy()\n",
    "        noiseDf = ind_ruido(noiseDf, i, noiseColumn)\n",
    "        \n",
    "        #Separamos en features y target\n",
    "        y = noiseDf[target]\n",
    "        features = list(noiseDf.columns)\n",
    "        features.remove(target)\n",
    "        \n",
    "        X = noiseDf[features]\n",
    "        \n",
    "        dt = DecisionTreeClassifier(max_depth = 6, criterion = \"gini\")\n",
    "        dt.fit(X, y)\n",
    "            \n",
    "        #Voy guardando los resultados\n",
    "        accuracy = np.round(accuracy_score(test_y, dt.predict(test_X)), 3)\n",
    "        results.append(accuracy)\n",
    "        \n",
    "    return results\n",
    "\n",
    "np.random.seed(RANDOM_SEED)\n",
    "\n",
    "results = test_ruido(X, y, \"Infantil@Late Fringe\", \"Presence of Children\",3360)\n",
    "columnas = ['0%','5%','10%','15%','20%','25%','30%','35%']\n",
    "filas = ['Accuracy']\n",
    "\n",
    "valores_por_columnas = []\n",
    "for result in results:\n",
    "    valores_por_columnas.append([result])\n",
    "\n",
    "imprimir_tabla(columnas,valores_por_columnas,filas)"
   ]
  },
  {
   "cell_type": "markdown",
   "metadata": {},
   "source": [
    "## 3. Naive Bayes\n",
    "\n",
    "Ejecutar Naive Bayes, informar las probabilidades condicionales y previas. Realizar\n",
    "las validaciones correspondientes"
   ]
  },
  {
   "cell_type": "code",
   "execution_count": 9,
   "metadata": {},
   "outputs": [],
   "source": [
    "# se instancia el modelo\n",
    "model = GaussianNB()\n",
    "model.fit(X,y)\n",
    "    \n",
    "# se hacen las predicciones sobre test y train\n",
    "predict_train=model.predict(X)\n",
    "predict_test=model.predict(test_X)"
   ]
  },
  {
   "cell_type": "code",
   "execution_count": 10,
   "metadata": {},
   "outputs": [
    {
     "name": "stdout",
     "output_type": "stream",
     "text": [
      "accuracy en train:   72.0 %\n",
      "accuracy en test :   72.0 %\n"
     ]
    }
   ],
   "source": [
    "print('accuracy en train:  ',round(accuracy_score(y, predict_train),2)*100,'%')\n",
    "print('accuracy en test :  ',round(accuracy_score(test_y, predict_test), 2)*100,'%')"
   ]
  },
  {
   "cell_type": "code",
   "execution_count": 11,
   "metadata": {},
   "outputs": [
    {
     "data": {
      "text/plain": [
       "0    62.3\n",
       "1    37.7\n",
       "Name: Presence of Children, dtype: float64"
      ]
     },
     "execution_count": 11,
     "metadata": {},
     "output_type": "execute_result"
    }
   ],
   "source": [
    "# la distribución en train es:\n",
    "round(y.value_counts()/len(y)*100,1)"
   ]
  },
  {
   "cell_type": "markdown",
   "metadata": {},
   "source": [
    "Es decir que la distribución de la base en train es 62.3% de las personas censadas no tienen hijos. El modelo NB propuesto logra mejorar el azar en poco más del 2.7%."
   ]
  },
  {
   "cell_type": "code",
   "execution_count": 12,
   "metadata": {},
   "outputs": [],
   "source": [
    "p_cero=[round(model.predict_proba(test_X)[i][0]*100,2) for i in range(len(model.predict_proba(test_X)))]\n",
    "p_uno=[round(model.predict_proba(test_X)[i][1]*100,2) for i in range(len(model.predict_proba(test_X)))]\n",
    "d={'P(0)/xi':p_cero,'P(1)/xi':p_uno}\n",
    "proba=pd.DataFrame(data=d)"
   ]
  },
  {
   "cell_type": "code",
   "execution_count": 13,
   "metadata": {},
   "outputs": [],
   "source": [
    "# se evalua la diferencia que hay entre las probabilidades condicionales asignadas para cada registro. \n",
    "diferencia=[model.predict_proba(test_X)[i][0]-model.predict_proba(test_X)[i][1] for i in range(len(model.predict_proba(test_X)))]\n"
   ]
  },
  {
   "cell_type": "markdown",
   "metadata": {},
   "source": [
    "Se grafica diferencia para observar casos donde la diferencia se menor a un determinado umbral. Diferencias entre -0.2 y 0.2 implique el modelo no logra diferenciar bien entre categorías"
   ]
  },
  {
   "cell_type": "code",
   "execution_count": 14,
   "metadata": {},
   "outputs": [
    {
     "data": {
      "image/png": "[encoded data removed]",
      "text/plain": [
       "<Figure size 640x480 with 1 Axes>"
      ]
     },
     "metadata": {
      "needs_background": "light"
     },
     "output_type": "display_data"
    }
   ],
   "source": [
    "plt.figure(figsize=(8, 6), dpi=80)\n",
    "plt.title('Distribución de diferencia de probabilidades condicionadas Gaussian NB')\n",
    "plt.hist(diferencia,bins=50)\n",
    "plt.axvspan(-0.2,0.2, facecolor='#2ca02c', alpha=0.2)\n",
    "plt.show()"
   ]
  },
  {
   "cell_type": "markdown",
   "metadata": {},
   "source": [
    "## 4. Comparación de algorítmos\n",
    "Comparar Naive Bayes y árboles de decisión. Para hacerlo usar 5-fold crossvalidation para la exploración de la mejor solución en cada caso. En árboles de\n",
    "decisión determinar qué tamaño de árbol conviene y si conviene utilizar Gini o\n",
    "Information Gain (todo esto con el conjunto de desarrollo y utilizando grid search).\n",
    "Utilizar ROC AUC como métrica."
   ]
  },
  {
   "cell_type": "code",
   "execution_count": 15,
   "metadata": {},
   "outputs": [
    {
     "name": "stdout",
     "output_type": "stream",
     "text": [
      "scoring ROC train:    81.86 %\n"
     ]
    }
   ],
   "source": [
    "# se instancia el modelo NB \n",
    "model = GaussianNB()\n",
    "model.fit(X,y)\n",
    "\n",
    "# en train\n",
    "scores = cross_val_score(model, X, y, cv=5, scoring='roc_auc')\n",
    "print('scoring ROC train:   ',round(100*scores.mean(),2),'%')\n",
    "predict_test_nb=model.predict(test_X)"
   ]
  },
  {
   "cell_type": "code",
   "execution_count": 16,
   "metadata": {
    "scrolled": true
   },
   "outputs": [
    {
     "name": "stdout",
     "output_type": "stream",
     "text": [
      "scoring ROC test :    72.86 %\n",
      "\n",
      "Reporte de metricas:\n",
      "              precision    recall  f1-score   support\n",
      "\n",
      "           0       0.83      0.70      0.76      1614\n",
      "           1       0.60      0.75      0.67       966\n",
      "\n",
      "   micro avg       0.72      0.72      0.72      2580\n",
      "   macro avg       0.72      0.73      0.72      2580\n",
      "weighted avg       0.74      0.72      0.73      2580\n",
      "\n",
      "\n",
      "accuracy en test :   72.0 %\n"
     ]
    }
   ],
   "source": [
    "# estimamos con los parámetros optimos\n",
    "print('scoring ROC test :   ',round(roc_auc_score(test_y, predict_test_nb)*100,2),'%')\n",
    "print()\n",
    "print('Reporte de metricas:')\n",
    "print (classification_report(test_y, predict_test_nb))\n",
    "print()\n",
    "print('accuracy en test :  ',round(accuracy_score(test_y, predict_test_nb), 2)*100,'%')"
   ]
  },
  {
   "cell_type": "code",
   "execution_count": 17,
   "metadata": {},
   "outputs": [
    {
     "data": {
      "image/png": "[encoded data removed]",
      "text/plain": [
       "<Figure size 432x288 with 1 Axes>"
      ]
     },
     "metadata": {
      "needs_background": "light"
     },
     "output_type": "display_data"
    }
   ],
   "source": [
    "cm=confusion_matrix(test_y, predict_test_nb)\n",
    "plt.clf()\n",
    "plt.imshow(cm, interpolation='nearest', cmap=plt.cm.Wistia)\n",
    "classNames = ['Positive','Negative']\n",
    "plt.title('Confusion Matrix - NB')\n",
    "plt.ylabel('True label')\n",
    "plt.xlabel('Predicted label')\n",
    "tick_marks = np.arange(len(classNames))\n",
    "plt.xticks(tick_marks, classNames, rotation=45)\n",
    "plt.yticks(tick_marks, classNames)\n",
    "s = [['TP','FN'], ['FP', 'TN']]\n",
    "for i in range(2):\n",
    "    for j in range(2):\n",
    "        plt.text(j,i, str(s[i][j])+\" = \"+str(cm[i][j]))\n",
    "plt.show()"
   ]
  },
  {
   "cell_type": "code",
   "execution_count": 18,
   "metadata": {},
   "outputs": [
    {
     "data": {
      "image/png": "[encoded data removed]",
      "text/plain": [
       "<Figure size 432x288 with 1 Axes>"
      ]
     },
     "metadata": {
      "needs_background": "light"
     },
     "output_type": "display_data"
    }
   ],
   "source": [
    "# graficamos curva ROC\n",
    "fpr,tpr,_ = roc_curve(test_y, predict_test_nb)\n",
    "nb_df = pd.DataFrame(dict(fpr=fpr, tpr=tpr))\n",
    "\n",
    "plt.axis([0, 1.01, 0, 1.01])\n",
    "plt.xlabel('1 - Specificty')\n",
    "plt.ylabel('TPR / Sensitivity')\n",
    "plt.title('Curva ROC en test - NB')\n",
    "plt.plot(nb_df['fpr'],nb_df['tpr'])\n",
    "plt.plot(np.arange(0,1, step =0.01), np.arange(0,1, step =0.01))\n",
    "plt.show() "
   ]
  },
  {
   "cell_type": "markdown",
   "metadata": {},
   "source": [
    "Optimizamos el algoritmo de Árbol de decisión"
   ]
  },
  {
   "cell_type": "code",
   "execution_count": 19,
   "metadata": {},
   "outputs": [],
   "source": [
    "# se optimiza el modelo de AD - se definen los parámetros a testear\n",
    "profundidad = list(range(1, 41))\n",
    "criterio = [\"gini\",\"entropy\"]\n",
    "split=['best','random']"
   ]
  },
  {
   "cell_type": "code",
   "execution_count": 20,
   "metadata": {},
   "outputs": [
    {
     "name": "stdout",
     "output_type": "stream",
     "text": [
      "DecisionTreeClassifier(class_weight=None, criterion='entropy', max_depth=7,\n",
      "            max_features=None, max_leaf_nodes=None,\n",
      "            min_impurity_decrease=0.0, min_impurity_split=None,\n",
      "            min_samples_leaf=1, min_samples_split=2,\n",
      "            min_weight_fraction_leaf=0.0, presort=False, random_state=None,\n",
      "            splitter='best')\n",
      "\n",
      "mejor estimación:    83.11 %\n"
     ]
    }
   ],
   "source": [
    "#instanciamos el modelo\n",
    "tree = DecisionTreeClassifier(max_depth = 3, criterion = 'gini',splitter='best')\n",
    "        \n",
    "param_grid = dict(max_depth=profundidad, criterion=criterio,splitter=split)\n",
    "grid = GridSearchCV(tree, param_grid, cv=5, scoring='roc_auc')\n",
    "grid.fit(X, y)\n",
    "\n",
    "print (grid.best_estimator_)\n",
    "print()\n",
    "print('mejor estimación:   ',round(grid.best_score_*100,2),'%')"
   ]
  },
  {
   "cell_type": "code",
   "execution_count": 21,
   "metadata": {
    "scrolled": true
   },
   "outputs": [
    {
     "name": "stdout",
     "output_type": "stream",
     "text": [
      "scoring ROC test :    74.75 %\n",
      "\n",
      "Reporte de metricas:\n",
      "              precision    recall  f1-score   support\n",
      "\n",
      "           0       0.79      0.88      0.84      1614\n",
      "           1       0.76      0.61      0.68       966\n",
      "\n",
      "   micro avg       0.78      0.78      0.78      2580\n",
      "   macro avg       0.78      0.75      0.76      2580\n",
      "weighted avg       0.78      0.78      0.78      2580\n",
      "\n",
      "\n",
      "accuracy en test :   78.0 %\n"
     ]
    }
   ],
   "source": [
    "# estimamos con los parámetros optimos\n",
    "predict_test_ad=grid.predict(test_X)\n",
    "print('scoring ROC test :   ',round(roc_auc_score(test_y, predict_test_ad)*100,2),'%')\n",
    "print()\n",
    "print('Reporte de metricas:')\n",
    "print (classification_report(test_y, predict_test_ad))\n",
    "print()\n",
    "print('accuracy en test :  ',round(accuracy_score(test_y, predict_test_ad), 2)*100,'%')"
   ]
  },
  {
   "cell_type": "code",
   "execution_count": 22,
   "metadata": {},
   "outputs": [
    {
     "data": {
      "image/png": "[encoded data removed]",
      "text/plain": [
       "<Figure size 432x288 with 1 Axes>"
      ]
     },
     "metadata": {
      "needs_background": "light"
     },
     "output_type": "display_data"
    }
   ],
   "source": [
    "cm=confusion_matrix(test_y, predict_test_ad)\n",
    "plt.clf()\n",
    "plt.imshow(cm, interpolation='nearest', cmap=plt.cm.Wistia)\n",
    "classNames = ['Positive','Negative']\n",
    "plt.title('Confusion Matrix - AD')\n",
    "plt.ylabel('True label')\n",
    "plt.xlabel('Predicted label')\n",
    "tick_marks = np.arange(len(classNames))\n",
    "plt.xticks(tick_marks, classNames, rotation=45)\n",
    "plt.yticks(tick_marks, classNames)\n",
    "s = [['TP','FN'], ['FP', 'TN']]\n",
    "for i in range(2):\n",
    "    for j in range(2):\n",
    "        plt.text(j,i, str(s[i][j])+\" = \"+str(cm[i][j]))\n",
    "plt.show()"
   ]
  },
  {
   "cell_type": "code",
   "execution_count": 23,
   "metadata": {},
   "outputs": [
    {
     "data": {
      "image/png": "[encoded data removed]",
      "text/plain": [
       "<Figure size 432x288 with 1 Axes>"
      ]
     },
     "metadata": {
      "needs_background": "light"
     },
     "output_type": "display_data"
    }
   ],
   "source": [
    "# graficamos curva ROC\n",
    "fpr1,tpr1,_ = roc_curve(test_y, predict_test_ad)\n",
    "df_ad = pd.DataFrame(dict(fpr=fpr1, tpr=tpr1))\n",
    "\n",
    "plt.axis([0, 1.01, 0, 1.01])\n",
    "plt.xlabel('FPR - Specificty')\n",
    "plt.ylabel('TPR / Sensitivity')\n",
    "plt.title('Curva ROC en test - Modelo de Arbol de decisión optimizado')\n",
    "plt.plot(df_ad['fpr'],df_ad['tpr'])\n",
    "plt.plot(np.arange(0,1, step =0.01), np.arange(0,1, step =0.01))\n",
    "plt.show() "
   ]
  },
  {
   "cell_type": "markdown",
   "metadata": {},
   "source": [
    "Comparamos Curvas ROC"
   ]
  },
  {
   "cell_type": "code",
   "execution_count": 24,
   "metadata": {
    "scrolled": true
   },
   "outputs": [
    {
     "data": {
      "image/png": "[encoded data removed]",
      "text/plain": [
       "<Figure size 432x288 with 1 Axes>"
      ]
     },
     "metadata": {
      "needs_background": "light"
     },
     "output_type": "display_data"
    }
   ],
   "source": [
    "# graficandolos conjuntamente\n",
    "\n",
    "plt.axis([0, 1.01, 0, 1.01])\n",
    "plt.xlabel('FPR - Specificty')\n",
    "plt.ylabel('TPR / Sensitivity')\n",
    "plt.title('Curva ROC en test')\n",
    "plt.plot(df_ad['fpr'],df_ad['tpr'])\n",
    "plt.plot(nb_df['fpr'],nb_df['tpr'])\n",
    "plt.plot(np.arange(0,1, step =0.01), np.arange(0,1, step =0.01))\n",
    "plt.gca().legend(('AD','NB'))\n",
    "plt.show() \n"
   ]
  }
 ],
 "metadata": {
  "kernelspec": {
   "display_name": "Python 3",
   "language": "python",
   "name": "python3"
  },
  "language_info": {
   "codemirror_mode": {
    "name": "ipython",
    "version": 3
   },
   "file_extension": ".py",
   "mimetype": "text/x-python",
   "name": "python",
   "nbconvert_exporter": "python",
   "pygments_lexer": "ipython3",
   "version": "3.7.1"
  }
 },
 "nbformat": 4,
 "nbformat_minor": 2
}
