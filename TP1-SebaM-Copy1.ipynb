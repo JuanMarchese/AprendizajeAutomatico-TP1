{
 "cells": [
  {
   "cell_type": "markdown",
   "metadata": {},
   "source": [
    "# TP1"
   ]
  },
  {
   "cell_type": "code",
   "execution_count": 1,
   "metadata": {},
   "outputs": [],
   "source": [
    "import numpy as np\n",
    "import pandas as pd\n",
    "from sklearn import preprocessing\n",
    "from sklearn.model_selection import train_test_split\n",
    "from sklearn.tree import DecisionTreeClassifier\n",
    "from sklearn.metrics import accuracy_score\n",
    "from sklearn.externals.six import StringIO  \n",
    "from IPython.display import Image  \n",
    "from sklearn.tree import export_graphviz\n",
    "import pydotplus\n",
    "from sklearn.metrics import roc_auc_score\n",
    "from sklearn.metrics import roc_curve\n",
    "import matplotlib.pyplot as plt"
   ]
  },
  {
   "cell_type": "markdown",
   "metadata": {},
   "source": [
    "## Lectura del dataset\n",
    "\n",
    "Se reemplaza el atributo \"Data of birth\" por \"Age\" y encodeamos \"Social Class\" que va a ser la clase que queremos clasificar"
   ]
  },
  {
   "cell_type": "code",
   "execution_count": 2,
   "metadata": {},
   "outputs": [],
   "source": [
    "def readCsv():\n",
    "    df = pd.read_csv(\"FullData.csv\")\n",
    "    #df['Date of birth'] = pd.to_datetime(df['Date of birth'],format='%Y-%m-%d') \n",
    "    \n",
    "    #Agregamos atributo edad\n",
    "    df['Date of birth'] = pd.to_datetime('today').year - pd.to_datetime(df['Date of birth'],format='%Y-%m-%d').dt.year\n",
    "    df = df.rename(columns={'Date of birth': 'Age' })\n",
    "    \n",
    "    #Encode social class\n",
    "    socialClassEncoder = preprocessing.LabelEncoder()\n",
    "    socialClassEncoder.fit([\"AB\", \"C1\", \"C2\", \"D \", \"E \"])\n",
    "    df['Social Class'] = socialClassEncoder.transform(df['Social Class'])\n",
    "    \n",
    "    return df\n",
    "\n",
    "df = readCsv()"
   ]
  },
  {
   "cell_type": "code",
   "execution_count": 5,
   "metadata": {
    "scrolled": true
   },
   "outputs": [],
   "source": [
    "\n",
    "X=['Sex code', 'Age', 'Marital status', 'Household status',\n",
    "       'Working status', 'Terminal age of education', 'Life stage',\n",
    "       'Ethnic Origin', 'Disability', 'No of TV Sets', 'No of VCRs',\n",
    "       'No of PVRs', 'No of DVDs', 'No of People', 'Social Class',\n",
    "        'Demographic cell 1', 'Number of DVD Recorders',\n",
    "       'Number of DVD Players', 'Number of Sky PVRs', 'Number of other PVRs',\n",
    "       'Broadband', 'Mosaic Classification', 'Aire@Morning', 'Aire@Daytime',\n",
    "       'Aire@Early Fringe', 'Aire@Late Fringe', 'Aire@Prime',\n",
    "       'Aire@Late Night', 'Aire@Overnight', 'Cable@Morning', 'Cable@Daytime',\n",
    "       'Cable@Early Fringe', 'Cable@Late Fringe', 'Cable@Prime',\n",
    "       'Cable@Late Night', 'Cable@Overnight', 'Deportes@Morning',\n",
    "       'Deportes@Daytime', 'Deportes@Early Fringe', 'Deportes@Late Fringe',\n",
    "       'Deportes@Prime', 'Deportes@Late Night', 'Deportes@Overnight',\n",
    "       'Infantil@Morning', 'Infantil@Daytime', 'Infantil@Early Fringe',\n",
    "       'Infantil@Late Fringe', 'Infantil@Prime', 'Infantil@Late Night',\n",
    "       'Infantil@Overnight']\n",
    "y='Presence of Children'"
   ]
  },
  {
   "cell_type": "code",
   "execution_count": 16,
   "metadata": {},
   "outputs": [],
   "source": [
    "df['Presence of Children']=[1 if df['Presence of Children'][i]!=1 else 0 for i in df.index]"
   ]
  },
  {
   "cell_type": "code",
   "execution_count": 19,
   "metadata": {},
   "outputs": [
    {
     "data": {
      "text/plain": [
       "GaussianNB(priors=None, var_smoothing=1e-09)"
      ]
     },
     "execution_count": 19,
     "metadata": {},
     "output_type": "execute_result"
    }
   ],
   "source": [
    "# se instancia el modelo y se aplica a las variables seleccionadas\n",
    "from sklearn.naive_bayes import GaussianNB\n",
    "\n",
    "model = GaussianNB()\n",
    "model.fit(df[X],df[y])"
   ]
  },
  {
   "cell_type": "code",
   "execution_count": 20,
   "metadata": {},
   "outputs": [],
   "source": [
    "pred=model.predict(df[X])"
   ]
  },
  {
   "cell_type": "code",
   "execution_count": 21,
   "metadata": {},
   "outputs": [
    {
     "data": {
      "text/plain": [
       "0.8616732573466698"
      ]
     },
     "execution_count": 21,
     "metadata": {},
     "output_type": "execute_result"
    }
   ],
   "source": [
    "accuracy_score(df[y], pred)"
   ]
  },
  {
   "cell_type": "code",
   "execution_count": 24,
   "metadata": {},
   "outputs": [
    {
     "data": {
      "text/plain": [
       "array([[1.00000000e+000, 1.38839805e-020],\n",
       "       [1.26321666e-124, 1.00000000e+000],\n",
       "       [9.77951774e-001, 2.20482262e-002],\n",
       "       ...,\n",
       "       [9.99999999e-001, 6.57037677e-010],\n",
       "       [1.48929851e-001, 8.51070149e-001],\n",
       "       [9.99975853e-001, 2.41468287e-005]])"
      ]
     },
     "execution_count": 24,
     "metadata": {},
     "output_type": "execute_result"
    }
   ],
   "source": [
    "model.predict_proba(df[X])"
   ]
  },
  {
   "cell_type": "code",
   "execution_count": 27,
   "metadata": {},
   "outputs": [
    {
     "data": {
      "text/plain": [
       "BernoulliNB(alpha=1.0, binarize=0.0, class_prior=None, fit_prior=True)"
      ]
     },
     "execution_count": 27,
     "metadata": {},
     "output_type": "execute_result"
    }
   ],
   "source": [
    "from sklearn.naive_bayes import BernoulliNB\n",
    "clf = BernoulliNB()\n",
    "clf.fit(df[X], df[y])"
   ]
  },
  {
   "cell_type": "code",
   "execution_count": 28,
   "metadata": {},
   "outputs": [
    {
     "data": {
      "text/plain": [
       "0.8616732573466698"
      ]
     },
     "execution_count": 28,
     "metadata": {},
     "output_type": "execute_result"
    }
   ],
   "source": [
    "pred=model.predict(df[X])\n",
    "accuracy_score(df[y], pred)"
   ]
  },
  {
   "cell_type": "code",
   "execution_count": 30,
   "metadata": {},
   "outputs": [],
   "source": [
    "from sklearn.metrics import confusion_matrix\n",
    "mat = confusion_matrix(df[y], pred)"
   ]
  },
  {
   "cell_type": "code",
   "execution_count": 32,
   "metadata": {},
   "outputs": [
    {
     "data": {
      "text/plain": [
       "<matplotlib.axes._subplots.AxesSubplot at 0x20adaaeb3c8>"
      ]
     },
     "execution_count": 32,
     "metadata": {},
     "output_type": "execute_result"
    },
    {
     "data": {
      "image/png": "[encoded data removed]",
      "text/plain": [
       "<Figure size 432x288 with 1 Axes>"
      ]
     },
     "metadata": {
      "needs_background": "light"
     },
     "output_type": "display_data"
    }
   ],
   "source": [
    "import seaborn as sns\n",
    "sns.heatmap(mat.T, square=True, annot=True, fmt='d', cbar=False,\n",
    "            xticklabels=['negativo','positivo'], yticklabels=['negativo','positivo'])"
   ]
  },
  {
   "cell_type": "markdown",
   "metadata": {},
   "source": [
    "## Caso 1: Social Class\n",
    "\n",
    "No se consigue un buen resultado así como están los datos."
   ]
  },
  {
   "cell_type": "code",
   "execution_count": null,
   "metadata": {
    "scrolled": false
   },
   "outputs": [],
   "source": [
    "def train(df, targetColumn, depth):\n",
    "    features = list(df.columns)\n",
    "    features.remove(targetColumn)\n",
    "    \n",
    "    y = df[targetColumn]\n",
    "    X = df[features]\n",
    "\n",
    "    classes = df[targetColumn].unique()\n",
    "    #Split for train and test\n",
    "    train_X, test_X, train_y, test_y = train_test_split(X, y, train_size=0.7, test_size=0.3, random_state=123)\n",
    "\n",
    "    #Se construye el modelo utilziando DecisionTreeClassifier y con fit se ajusta este modelo al conjunto de entrenamiento\n",
    "    dt = DecisionTreeClassifier(max_depth=3, min_samples_split=3)\n",
    "    dt.fit(train_X, train_y)\n",
    "\n",
    "    # Con prediction calculo mi modelo con el conjunto de test de manera de medir qué el comportamkiento sonbre este conjunto\n",
    "    predictions = dt.predict(test_X)\n",
    "\n",
    "    #Y posteriormente con accuracy veo la bondad de ajuste sobre el test\n",
    "    acc = accuracy_score(test_y, predictions)\n",
    "\n",
    "    return dt, acc, features, classes\n",
    "\n",
    "dt, acc, features, classes = train(df, \"Social Class\", 3)\n",
    "print(\"Feature Set: \", features)\n",
    "print(\"Classes: \", classes)\n",
    "print(\"Accuracy: \", acc)\n",
    "\n",
    "dot_data = StringIO()\n",
    "export_graphviz(dt, out_file=dot_data, filled=True, rounded=True, special_characters=True, feature_names=features)\n",
    "graph = pydotplus.graph_from_dot_data(dot_data.getvalue())  \n",
    "Image(graph.create_png())"
   ]
  },
  {
   "cell_type": "markdown",
   "metadata": {},
   "source": [
    "## Caso 2: Social Class con porcentajes de tiempo y tiempo total\n",
    "\n",
    "La otra que probé fue agregar un total time y cambiar los itempo por porcentajes. El resultado fue el mismo, parece que no le importa nada las horas de televisión al árbol."
   ]
  },
  {
   "cell_type": "code",
   "execution_count": null,
   "metadata": {},
   "outputs": [],
   "source": [
    "def encodeHour(df, replaceForPercentage):    \n",
    "    df['Total Time'] = 0\n",
    "    timeColumns = (list(df.columns[30:50]))\n",
    "    for time in timeColumns:\n",
    "        df['Total Time'] = df['Total Time'] + df[time]\n",
    "\n",
    "    if replaceForPercentage:\n",
    "        for time in timeColumns:\n",
    "            df[time] = df[time].divide(df['Total Time']) * 100\n",
    "\n",
    "        df.replace(np.Inf, 0)\n",
    "    \n",
    "    return df\n",
    "\n",
    "df = readCsv()\n",
    "df = encodeHour(df, True)\n",
    "\n",
    "dt, acc, features, classes = train(df, \"Social Class\", 3)\n",
    "print(\"Feature Set: \", features)\n",
    "print(\"Classes: \", classes)\n",
    "print(\"Accuracy Social Class: \", acc)\n",
    "\n",
    "dot_data = StringIO()\n",
    "export_graphviz(dt, out_file=dot_data, filled=True, rounded=True, special_characters=True, feature_names=features)\n",
    "graph = pydotplus.graph_from_dot_data(dot_data.getvalue())  \n",
    "Image(graph.create_png())"
   ]
  },
  {
   "cell_type": "markdown",
   "metadata": {},
   "source": [
    "## Caso 3: Sex code\n",
    "\n",
    "Probé a ver como funciona el modelo con Sex Code y creo que da cerca del valor que estabamos viendo el otro día en clase. Parece que al árbol le importa Genre Sport para clasificar al  menos."
   ]
  },
  {
   "cell_type": "code",
   "execution_count": null,
   "metadata": {},
   "outputs": [],
   "source": [
    "df = readCsv()\n",
    "df = encodeHour(df, True)\n",
    "\n",
    "dt, acc, features, classes = train(df, \"Sex code\", 3)\n",
    "print(\"Feature Set: \", features)\n",
    "print(\"Classes: \", classes)\n",
    "print(\"Accuracy: \", acc)\n",
    "\n",
    "dot_data = StringIO()\n",
    "export_graphviz(dt, out_file=dot_data, filled=True, rounded=True, special_characters=True, feature_names=features)\n",
    "graph = pydotplus.graph_from_dot_data(dot_data.getvalue())  \n",
    "Image(graph.create_png())"
   ]
  },
  {
   "cell_type": "markdown",
   "metadata": {},
   "source": [
    "## Caso 4: Sex code sin el cambio de las horas\n",
    "\n",
    "Si no hago lo de las horas anda un poco mejor esto"
   ]
  },
  {
   "cell_type": "code",
   "execution_count": null,
   "metadata": {},
   "outputs": [],
   "source": [
    "df = readCsv()\n",
    "df = encodeHour(df, False) #Solo agrego las horas totales\n",
    "\n",
    "dt, acc, features, classes = train(df, \"Sex code\", 3)\n",
    "print(\"Feature Set: \", features)\n",
    "print(\"Classes: \", classes)\n",
    "print(\"Accuracy: \", acc)\n",
    "\n",
    "dot_data = StringIO()\n",
    "export_graphviz(dt, out_file=dot_data, filled=True, rounded=True, special_characters=True, feature_names=features)\n",
    "graph = pydotplus.graph_from_dot_data(dot_data.getvalue())  \n",
    "Image(graph.create_png())"
   ]
  },
  {
   "cell_type": "markdown",
   "metadata": {},
   "source": [
    "## Caso 5: Agrupar \"Social Class\" en 2 grupos\n",
    "\n",
    "Viendo un poco la definición de Social Class (https://en.wikipedia.org/wiki/NRS_social_grade) aparentemente una forma popular de hacer esto es por ABC1 y C2DE, que separa entre middle class y working class. Se llega a una accuracy de 0.68, es algo al menos. "
   ]
  },
  {
   "cell_type": "code",
   "execution_count": null,
   "metadata": {},
   "outputs": [],
   "source": [
    "def groupSocialClassCondition(x):\n",
    "    if x == 0 or x == 1:\n",
    "        return 0\n",
    "    else:\n",
    "        return 1\n",
    "\n",
    "def groupSocialClass(df):\n",
    "    df['Social Class'] = df['Social Class'].apply(groupSocialClassCondition)\n",
    "    return df\n",
    "\n",
    "df = readCsv()\n",
    "#df = encodeHour(df, True)\n",
    "df = groupSocialClass(df)\n",
    "\n",
    "dt, acc, features, classes = train(df, \"Social Class\", 3)\n",
    "print(\"Feature Set: \", features)\n",
    "print(\"Classes: \", classes)\n",
    "print(\"Accuracy: \", acc)\n",
    "\n",
    "dot_data = StringIO()\n",
    "export_graphviz(dt, out_file=dot_data, filled=True, rounded=True, special_characters=True, feature_names=features)\n",
    "graph = pydotplus.graph_from_dot_data(dot_data.getvalue())  \n",
    "Image(graph.create_png())"
   ]
  }
 ],
 "metadata": {
  "kernelspec": {
   "display_name": "Python 3",
   "language": "python",
   "name": "python3"
  },
  "language_info": {
   "codemirror_mode": {
    "name": "ipython",
    "version": 3
   },
   "file_extension": ".py",
   "mimetype": "text/x-python",
   "name": "python",
   "nbconvert_exporter": "python",
   "pygments_lexer": "ipython3",
   "version": "3.6.8"
  }
 },
 "nbformat": 4,
 "nbformat_minor": 2
}
